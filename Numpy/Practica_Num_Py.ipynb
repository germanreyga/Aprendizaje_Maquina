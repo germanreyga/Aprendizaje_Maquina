{
 "cells": [
  {
   "cell_type": "markdown",
   "metadata": {
    "colab_type": "text",
    "id": "irRBSnmuGcOF"
   },
   "source": [
    "[![Open In Colab](https://colab.research.google.com/assets/colab-badge.svg)](https://colab.research.google.com/github/MauricioRR-Tec/Machine-Learning/blob/master/Notebooks/Practica_Num_Py.ipynb)"
   ]
  },
  {
   "cell_type": "markdown",
   "metadata": {
    "colab_type": "text",
    "id": "RiNN1d2WGcOH"
   },
   "source": [
    "# Practica - MNist con NumPy\n",
    "---\n",
    "## Usando Numpy con MNist\n",
    "\n",
    "MNist es un popular conjunto de datos que contiene imágenes de dígitos del 0-9 escritos a mano. Las imágenes en el conjunto están compuestas por 28x28 pixeles, cada pixel representa un tono en una escala de grises siendo 0 el valor más luminoso y 255 el valor más oscuro.\n",
    "\n",
    "Unos ejemplos de las imágenes en MNist:\n",
    "\n",
    "![alt text](https://upload.wikimedia.org/wikipedia/commons/2/27/MnistExamples.png)"
   ]
  },
  {
   "cell_type": "markdown",
   "metadata": {
    "colab_type": "text",
    "id": "GvzzgoAoGcOJ"
   },
   "source": [
    "Ejecuta la siguiente celda para importar las librerías utilizadas durante la notebook.\n"
   ]
  },
  {
   "cell_type": "code",
   "execution_count": 231,
   "metadata": {
    "colab": {},
    "colab_type": "code",
    "id": "-leMtfhoGcOL"
   },
   "outputs": [],
   "source": [
    "import numpy as np\n",
    "from matplotlib import pyplot as plt"
   ]
  },
  {
   "cell_type": "markdown",
   "metadata": {
    "colab_type": "text",
    "id": "HRIQjn8nGcOY"
   },
   "source": [
    "Una función auxiliar ```display_example``` para visualizar ejemplos en el conjunto de datos MNist.\n",
    "\n",
    "*Nota: No olvides ejecutar la celda*"
   ]
  },
  {
   "cell_type": "code",
   "execution_count": 232,
   "metadata": {
    "colab": {},
    "colab_type": "code",
    "id": "m8lF6pZEGcOZ"
   },
   "outputs": [],
   "source": [
    "def display_example(x, example_width=None):\n",
    "    \"\"\"Muestra un ejemplo en forma 1D como una imagen\"\"\"\n",
    "    # Compute rows, cols\n",
    "    if x.ndim == 1:\n",
    "        n = x.size\n",
    "        m = 1\n",
    "        x = x[None]  # Promote to a 2 dimensional array\n",
    "    else:\n",
    "        raise IndexError('Input x should be 1 dimensional.')\n",
    "\n",
    "    example_width = example_width or int(np.round(np.sqrt(n)))\n",
    "    example_height = n // example_width\n",
    "\n",
    "    plt.imshow(x[0].reshape(example_height, example_width),\n",
    "                        cmap='Greys', extent=[0, 1, 0, 1])\n",
    "    plt.show()"
   ]
  },
  {
   "cell_type": "markdown",
   "metadata": {
    "colab_type": "text",
    "id": "wGgFp3syGcOf"
   },
   "source": [
    "## Cargando los datos usando Numpy\n",
    "\n",
    "Usarémos la función ```loadtxt``` para cargar una versión de MNist que está en nuestra máquina asignada por colab."
   ]
  },
  {
   "cell_type": "code",
   "execution_count": 233,
   "metadata": {
    "colab": {},
    "colab_type": "code",
    "id": "l5uLWBwgGcOh"
   },
   "outputs": [
    {
     "data": {
      "text/plain": [
       "array([[6., 0., 0., ..., 0., 0., 0.],\n",
       "       [5., 0., 0., ..., 0., 0., 0.],\n",
       "       [7., 0., 0., ..., 0., 0., 0.],\n",
       "       ...,\n",
       "       [2., 0., 0., ..., 0., 0., 0.],\n",
       "       [9., 0., 0., ..., 0., 0., 0.],\n",
       "       [5., 0., 0., ..., 0., 0., 0.]])"
      ]
     },
     "execution_count": 233,
     "metadata": {},
     "output_type": "execute_result"
    }
   ],
   "source": [
    "MNist = np.loadtxt(\"sample_data/mnist_train_small.csv\", delimiter=',')\n",
    "MNist"
   ]
  },
  {
   "cell_type": "markdown",
   "metadata": {
    "colab_type": "text",
    "id": "BpnBLKX4GcOn"
   },
   "source": [
    "El conjunto de datos MNist en Colab está formado por imágenes de ejemplo. Cada ejemplo en el conjunto es una fila en el arreglo de NumPy.\n",
    "\n",
    "Cada ejemplo (fila) es un arreglo con $785$ elementos, el primer elemento es la etiqueta del dígito (un entero de $0$ a $9$). El resto de los elementos ($784$) son los pixeles de la imágen ($28\\times28 = 784$).\n",
    "\n",
    "---\n",
    "## ¿Cuántos ejemplos (filas) tenemos en el conjunto de datos?\n",
    "\n",
    "Utiliza NumPy para calcular el número de filas en el set de datos, rellena el código para guardar el valor en la variable ```m```."
   ]
  },
  {
   "cell_type": "code",
   "execution_count": 194,
   "metadata": {
    "colab": {
     "base_uri": "https://localhost:8080/",
     "height": 35
    },
    "colab_type": "code",
    "id": "SlS12GnOGcOp",
    "outputId": "e3dfe175-0998-4ddc-f64e-1ba8438dc2bd"
   },
   "outputs": [
    {
     "name": "stdout",
     "output_type": "stream",
     "text": [
      "El set de datos contiene  20000  ejemplos.\n"
     ]
    }
   ],
   "source": [
    "m = MNist.shape[0]\n",
    "print(\"El set de datos contiene \", m, \" ejemplos.\")"
   ]
  },
  {
   "cell_type": "markdown",
   "metadata": {
    "colab_type": "text",
    "id": "2kFCqTzCGcOu"
   },
   "source": [
    "## Separando los datos.\n",
    "\n",
    "En la siguiente celda, deberás completar el código para separar el conjunto de datos en dos, un conjunto ```X``` que contendrá únicamente los pixeles de las imágenes y un conjunto ```y``` que contendrá las etiquetas asociadas al número que está en la imágen.\n",
    "\n",
    "Utiliza slicing con NumPy para seleccionar los elementos adecuados."
   ]
  },
  {
   "cell_type": "code",
   "execution_count": 195,
   "metadata": {
    "colab": {},
    "colab_type": "code",
    "id": "1MXEw6xvGcOw"
   },
   "outputs": [],
   "source": [
    "X = MNist[:,1:]\n",
    "y = MNist[:,0]"
   ]
  },
  {
   "cell_type": "code",
   "execution_count": 196,
   "metadata": {
    "colab": {},
    "colab_type": "code",
    "id": "QG-hY44NGcO3"
   },
   "outputs": [
    {
     "ename": "SyntaxError",
     "evalue": "invalid syntax (<ipython-input-196-4d4c96976b9c>, line 1)",
     "output_type": "error",
     "traceback": [
      "\u001b[1;36m  File \u001b[1;32m\"<ipython-input-196-4d4c96976b9c>\"\u001b[1;36m, line \u001b[1;32m1\u001b[0m\n\u001b[1;33m    Comprueba ejecutando la siguiente celda:\u001b[0m\n\u001b[1;37m              ^\u001b[0m\n\u001b[1;31mSyntaxError\u001b[0m\u001b[1;31m:\u001b[0m invalid syntax\n"
     ]
    }
   ],
   "source": [
    "Comprueba ejecutando la siguiente celda:\n"
   ]
  },
  {
   "cell_type": "code",
   "execution_count": null,
   "metadata": {
    "colab": {},
    "colab_type": "code",
    "id": "AfhmoAz8GcO7"
   },
   "outputs": [],
   "source": [
    "assert y.shape == (20000,) and X.shape == (20000, 784), \"Error en las dimensiones de X o y\"\n",
    "print(\"X.shape:\", X.shape)\n",
    "print(\"y.shape:\", y.shape)"
   ]
  },
  {
   "cell_type": "markdown",
   "metadata": {
    "colab_type": "text",
    "id": "e0y40usAGcO_"
   },
   "source": [
    "## Visualizando las imágenes en el set de datos\n",
    "\n",
    "Usemos la función auxiliar display_example para visualizar los ejemplos en el set de datos. Intentar cambiar el valor de ```i``` para mostrar una ejemplo distinto."
   ]
  },
  {
   "cell_type": "code",
   "execution_count": null,
   "metadata": {
    "colab": {},
    "colab_type": "code",
    "id": "QxhTRnTdGcPA"
   },
   "outputs": [],
   "source": [
    "#puedes cambiar el valor de i\n",
    "i = 60\n",
    "\n",
    "example = X[i]\n",
    "example_label = y[i]\n",
    "display_example(example)\n",
    "print(\"Imágen con etiqueta: \", example_label)"
   ]
  },
  {
   "cell_type": "markdown",
   "metadata": {
    "colab_type": "text",
    "id": "NRPHLYc_GcPF"
   },
   "source": [
    "## Contando el número de ejemplos para cada \"clase\"\n",
    "\n",
    "Rellena la función ```count_class_examples()``` para imprimir el número de ejemplos de cada etiqueta en el set de datos. Esto es, el número de ceros, de unos, dos, ..., nueves.\n",
    "\n",
    "Para MNist las etiquetas $y \\in \\{0, 1, 2, \\dots, 9\\}$"
   ]
  },
  {
   "cell_type": "code",
   "execution_count": null,
   "metadata": {
    "colab": {},
    "colab_type": "code",
    "id": "5DLaZsJTGcPH"
   },
   "outputs": [],
   "source": [
    "def count_class_examples(y):\n",
    "  \"\"\"Imprime el numero de ejemplos para cada clase en y.\n",
    "  \n",
    "  Argumentos\n",
    "  y - arreglos de numpy que contiene etiquetas\n",
    "  \"\"\"\n",
    "  \n",
    "  for i in range(10):\n",
    "    count = y[y==i].size\n",
    "    print(\"Numero de\", i, count)"
   ]
  },
  {
   "cell_type": "code",
   "execution_count": null,
   "metadata": {
    "colab": {},
    "colab_type": "code",
    "id": "hVJ98bs8GcPM"
   },
   "outputs": [],
   "source": [
    "count_class_examples(y)\n",
    "print(X[0])"
   ]
  },
  {
   "cell_type": "markdown",
   "metadata": {
    "colab_type": "text",
    "id": "V0XISPt1GcPS"
   },
   "source": [
    "## Calcula el arreglo representativo para cada clase\n",
    "\n",
    "Utiliza Numpy para encontrar el arreglo representativo promediando los arreglos para cada clase. Rellena la función ``` class_means``` para que devuelva un arreglo de NumPy que contenga en cada fila el arreglo promedio de los respectivos ejemplos (del dígito 0 al 9)."
   ]
  },
  {
   "cell_type": "code",
   "execution_count": null,
   "metadata": {
    "colab": {},
    "colab_type": "code",
    "id": "JeCNKRAvGcPT"
   },
   "outputs": [],
   "source": [
    "def class_means(X, y):\n",
    "  \"\"\"\n",
    "  Calcula el arreglo promedio (representativo) de cada clase\n",
    "  \"\"\"\n",
    "  # Numero de ejemplos (filas)\n",
    "  m = X.shape[0]\n",
    "  # Numero de features (columnas)\n",
    "  n = X.shape[1]\n",
    "  # Clases distintas en el set\n",
    "  ulabels = np.unique(y)\n",
    "  # Numero de clases\n",
    "  classes = ulabels.size\n",
    "\n",
    "  # Rellena means con el arreglo promedio de cada clase\n",
    "  means = np.empty((classes, n))\n",
    "\n",
    "  for i in range(classes):\n",
    "    means[i,:] = X[y==ulabels[i]].mean(axis=0)\n",
    "\n",
    "  return means"
   ]
  },
  {
   "cell_type": "code",
   "execution_count": null,
   "metadata": {
    "colab": {},
    "colab_type": "code",
    "id": "rD-vlj5MGcPa"
   },
   "outputs": [],
   "source": [
    "class_representatives = class_means(X, y)\n",
    "\n",
    "#shape del arreglo que contiene los representativos\n",
    "class_representatives.shape\n",
    "print(class_representatives[2])"
   ]
  },
  {
   "cell_type": "code",
   "execution_count": null,
   "metadata": {
    "colab": {},
    "colab_type": "code",
    "id": "o8Tp01NUGcPd"
   },
   "outputs": [],
   "source": [
    "assert np.array_equal(class_means(np.array([[4, 6], [2, 4], [10, 4], [2, 6]]), np.array([1, 2, 1, 2])), np.array([[7, 5], [2, 5]])), \"Error\"\n",
    "assert class_representatives.shape == (10, 784), \"Error en las dimensiones de class_representatives\"\n",
    "print(\"Funcion clas_means es correcta\")"
   ]
  },
  {
   "cell_type": "markdown",
   "metadata": {
    "colab_type": "text",
    "id": "ehIR9h8-GcPi"
   },
   "source": [
    "Utiliza la función display_example para mostrar el ejemplo promedio de la clase (para cada clase).\n"
   ]
  },
  {
   "cell_type": "code",
   "execution_count": null,
   "metadata": {
    "colab": {},
    "colab_type": "code",
    "id": "QZ3dEu6dGcPj"
   },
   "outputs": [],
   "source": [
    "for i in range(10):\n",
    "  display_example(class_representatives[i])"
   ]
  },
  {
   "cell_type": "markdown",
   "metadata": {
    "colab_type": "text",
    "id": "AYRIUrV7GcPo"
   },
   "source": [
    "## Clasificador de dígitos usando distancias\n",
    "\n",
    "En esta sección, generaremos un modelo para identificar dígitos mediante el uso de distancias euclidianas. Calcularemos la distancia entre cada ejemplo en el conjunto y los dígitos representativos de cada clase (el valor promedio de cada clase). Le asignaremos a cada ejemplo la etiqueta del dígito representativo con menor distancia.\n",
    "\n",
    "---\n",
    "\n",
    "### Distancia Euclidiana\n",
    "\n",
    "En la siguiente celda, rellena la función ```euclidean_distance``` para calcular la distancia euclidiana entre los puntos P y Q.\n",
    "\n",
    "La distancia euclidiana entre dos puntos P y Q en un espacio n-dimesional es:\n",
    "\n",
    "$$d_e(P, Q) = \\sqrt{(p_1 - q_1)^2+(p_2-q_2)^2 + \\dots+(p_n-q_n)^2} = \\sqrt{\\sum_{i=1}^{n}(p_i-q_i)^2} $$"
   ]
  },
  {
   "cell_type": "code",
   "execution_count": 198,
   "metadata": {
    "colab": {},
    "colab_type": "code",
    "id": "QiPWe0LkGcPo"
   },
   "outputs": [],
   "source": [
    "def euclidean_distance(P, Q):\n",
    "  \"\"\"\n",
    "  Calcula la distancia euclidiana entre los elementos de P y Q\n",
    "  \"\"\"\n",
    "  e_distance = np.sqrt(np.sum(np.subtract(P,Q)**2, axis=1))\n",
    "  return e_distance"
   ]
  },
  {
   "cell_type": "code",
   "execution_count": 199,
   "metadata": {
    "colab": {},
    "colab_type": "code",
    "id": "3pu_6pikGcPs"
   },
   "outputs": [
    {
     "data": {
      "text/plain": [
       "array([3.])"
      ]
     },
     "execution_count": 199,
     "metadata": {},
     "output_type": "execute_result"
    }
   ],
   "source": [
    "a = np.array([[1, 2, 3]])\n",
    "b = np.array([[3, 3, 5]])\n",
    "euclidean_distance(a, b)"
   ]
  },
  {
   "cell_type": "code",
   "execution_count": 200,
   "metadata": {
    "colab": {},
    "colab_type": "code",
    "id": "4uWVYxpJGcPw"
   },
   "outputs": [],
   "source": [
    "assert euclidean_distance(np.array([[1, 2, 3]]), np.array([[3, 3, 5]]))[0] == 3.0, \"Error en euclidean_distance\""
   ]
  },
  {
   "cell_type": "markdown",
   "metadata": {
    "colab_type": "text",
    "id": "o_nQS0S9GcP0"
   },
   "source": [
    "## Obten el representante más cercano para cada ejemplo\n",
    "\n",
    "Rellena la función ```closest_point``` para asignar a cada ejemplo la etiqueta del dígito más cercano según su distancia al arreglo representativo.\n",
    "\n",
    "*¿Puedes hacerlo con 2, 1 o ningún ciclo for?*"
   ]
  },
  {
   "cell_type": "code",
   "execution_count": 222,
   "metadata": {
    "colab": {},
    "colab_type": "code",
    "id": "HnWHnN1LGcP1"
   },
   "outputs": [],
   "source": [
    "def closest_point(X, representatives):\n",
    "  \"\"\"\n",
    "  Devuelve un arreglo con la etiqueta del elemento mas cercano\n",
    "  para cada ejemplo en X\n",
    "\n",
    "  X -  el arreglo con los ejemplos\n",
    "  representatives - el arreglo con los elementos representativos de cada clase\n",
    "  \"\"\"\n",
    "  # Numero de ejemplos (filas)\n",
    "  m = X.shape[0]\n",
    "  # Numero de features (columnas)\n",
    "  n = X.shape[1]\n",
    "  # Numero de clases\n",
    "  classes = representatives.shape[0]\n",
    "\n",
    "  # Distancias minimas\n",
    "  min_distances = np.full(m, np.inf)\n",
    "  # El indice de la mejor distancia\n",
    "  best = np.zeros((X.shape[0]), dtype=np.int8)\n",
    "\n",
    "  for i in range(0, X.shape[0]):\n",
    "    best[i] = np.argmin(euclidean_distance(X[i],representatives))\n",
    "  \n",
    "  return best"
   ]
  },
  {
   "cell_type": "code",
   "execution_count": 223,
   "metadata": {
    "colab": {},
    "colab_type": "code",
    "id": "44f3mxy8GcP5"
   },
   "outputs": [],
   "source": [
    "y_pred = closest_point(X, class_representatives)"
   ]
  },
  {
   "cell_type": "code",
   "execution_count": 224,
   "metadata": {
    "colab": {},
    "colab_type": "code",
    "id": "NpYKaIv1GcP8"
   },
   "outputs": [],
   "source": [
    "assert y_pred.shape == (20000,) or y_pred.shape == (20000), \"Error en las dimensiones de y_pred\""
   ]
  },
  {
   "cell_type": "markdown",
   "metadata": {
    "colab_type": "text",
    "id": "Xobry878GcQB"
   },
   "source": [
    "## Visualiza las predicciones"
   ]
  },
  {
   "cell_type": "code",
   "execution_count": 218,
   "metadata": {
    "colab": {},
    "colab_type": "code",
    "id": "dTCh6TDEGcQC"
   },
   "outputs": [
    {
     "data": {
      "image/png": "[encoded data removed]",
      "text/plain": [
       "<Figure size 432x288 with 1 Axes>"
      ]
     },
     "metadata": {
      "needs_background": "light"
     },
     "output_type": "display_data"
    },
    {
     "name": "stdout",
     "output_type": "stream",
     "text": [
      "Imágen con etiqueta:  3.0  modelo dice: 3\n"
     ]
    }
   ],
   "source": [
    "#intenta cambiar el valor de i\n",
    "i = 1000\n",
    "\n",
    "example = X[i]\n",
    "pred_label = y_pred[i]\n",
    "true_label = y[i]\n",
    "display_example(example)\n",
    "print(\"Imágen con etiqueta: \", true_label, \" modelo dice:\", pred_label)"
   ]
  },
  {
   "cell_type": "markdown",
   "metadata": {
    "colab_type": "text",
    "id": "bruD1i9hGcQJ"
   },
   "source": [
    "## Evaluando el clasificador\n",
    "\n",
    "Una vez que tienes un modelo, debes evaluarlo para saber que tan bien (o mal) está haciendo su trabajo. Para el modelo clasificador de dígitos, usaremos una métrica típica de evaluación.\n",
    "\n",
    "---\n",
    "\n",
    "## Exactitúd (Accuracy)\n",
    "\n",
    "La exactitúd o accuracy mide el rendimiento general del modelo.\n",
    "\n",
    "Utiliza la siguiente fórmula para completar la función ```accuracy``` para medir el rendimiento del modelo de clasificación de dígitos:\n",
    "\n",
    "$$\\texttt{accuracy}(y, \\hat{y}) = \\frac{1}{m} \\sum_{i=0}^{m-1} 1(\\hat{y}_i = y_i)$$\n",
    "\n",
    "$$1(1(\\hat{y}_i = y_i) = 1 \\quad \\text{cuando} \\quad \\hat{y}_i = y_i$$\n",
    "\n",
    "$$1(1(\\hat{y}_i = y_i) = 0 \\quad \\text{cuando} \\quad \\hat{y}_i \\neq y_i$$\n",
    "\n",
    "$$m \\quad \\text{es el número de ejemplos}$$"
   ]
  },
  {
   "cell_type": "code",
   "execution_count": 229,
   "metadata": {
    "colab": {},
    "colab_type": "code",
    "id": "-6bPLUcOGcQL"
   },
   "outputs": [],
   "source": [
    "def accuracy(y, y_pred):\n",
    "  \"\"\"\n",
    "  Devuelve la exactitud dados dos vectores \"y\" con la verdad\n",
    "  y \"y_pred\" con las predicciones\n",
    "  \"\"\"\n",
    "  acc = y[y==y_pred].size/y.size\n",
    "  return acc"
   ]
  },
  {
   "cell_type": "code",
   "execution_count": 230,
   "metadata": {
    "colab": {},
    "colab_type": "code",
    "id": "iPK9AS48GcQS"
   },
   "outputs": [
    {
     "data": {
      "text/plain": [
       "0.80925"
      ]
     },
     "execution_count": 230,
     "metadata": {},
     "output_type": "execute_result"
    }
   ],
   "source": [
    "accuracy(y, y_pred)"
   ]
  },
  {
   "cell_type": "markdown",
   "metadata": {
    "colab_type": "text",
    "id": "7TD5jJCcGcQY"
   },
   "source": [
    "¿Consideras que el modelo es bueno para predecir dígitos escritos a mano?, ¿crees que hay margen de mejora?"
   ]
  },
  {
   "cell_type": "markdown",
   "metadata": {},
   "source": [
    "Es un buen modelo para predecir dígitos que estén escritos con tinta negra y con un fondo blanco, pero con cualquier otro tipo de imágenes creo que el modelo tendría muchas fallas. \n",
    "\n",
    "Además, aunque un 80% de exactitud sea un valor relativamente bueno, si hay un margen de mejora."
   ]
  }
 ],
 "metadata": {
  "colab": {
   "name": "Practica_Num_Py.ipynb",
   "provenance": []
  },
  "kernelspec": {
   "display_name": "Python 3",
   "language": "python",
   "name": "python3"
  },
  "language_info": {
   "codemirror_mode": {
    "name": "ipython",
    "version": 3
   },
   "file_extension": ".py",
   "mimetype": "text/x-python",
   "name": "python",
   "nbconvert_exporter": "python",
   "pygments_lexer": "ipython3",
   "version": "3.8.3"
  }
 },
 "nbformat": 4,
 "nbformat_minor": 1
}
