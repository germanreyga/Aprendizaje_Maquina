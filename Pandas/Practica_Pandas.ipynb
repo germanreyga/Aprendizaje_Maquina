{
 "cells": [
  {
   "cell_type": "markdown",
   "metadata": {
    "colab_type": "text",
    "id": "view-in-github"
   },
   "source": [
    "[![Open In Colab](https://colab.research.google.com/assets/colab-badge.svg)](https://colab.research.google.com/github/MauricioRR-Tec/Machine-Learning/blob/master/Notebooks/Practica_Pandas.ipynb)"
   ]
  },
  {
   "cell_type": "markdown",
   "metadata": {
    "colab_type": "text",
    "id": "U27yy_exrI8z"
   },
   "source": [
    "# Analizando las estadísticas de jugadores de futbol con Pandas\n",
    "\n",
    "![FIFA](https://upload.wikimedia.org/wikipedia/commons/thumb/a/aa/FIFA_logo_without_slogan.svg/1200px-FIFA_logo_without_slogan.svg.png)\n",
    "\n",
    "En esta notebook, utilizarás Pandas para analizar datos de jugadores de futbol (soccer). Los datos se encuentran en forma tabular e incluyen información relevante de jugadores de futbol de todo el mundo.\n",
    "\n",
    "---\n",
    "\n",
    "\n",
    "Cada fila en el conjunto de datos contiene información sobre el jugador:\n",
    "* Información personal: Nombre, nacionalidad, , edad, altura, peso y pierna preferida al jugar.\n",
    "* Información como jugador: Nombre del equipo en el que juega (Club), número de playera, posición en el campo (abreviada), valor comercial y salario.\n",
    "* Información sobre sus habilidades como jugador (0-100): Overall, Potential, Shooting, Defense, Passing, Physical, Control, Mental y GoalKeeping.\n",
    "\n",
    "\n",
    "Durante la notebook llevarás a cabo tareas de tratamiento y análisis exploratorio de datos comunmente realizadas. Buscarás información que podría resultar útil para las organizaciones.\n",
    "\n",
    "\n",
    "\n",
    "---\n",
    "Recuerda que puedes acudir a la [documentación de Pandas](https://pandas.pydata.org/pandas-docs/stable/reference/index.html) o a la notebook de Pandas.\n",
    "\n"
   ]
  },
  {
   "cell_type": "markdown",
   "metadata": {
    "colab_type": "text",
    "id": "YK63u5jI9TkW"
   },
   "source": [
    "Primero, importa Pandas en tu notebook:"
   ]
  },
  {
   "cell_type": "code",
   "execution_count": 257,
   "metadata": {
    "colab": {},
    "colab_type": "code",
    "id": "3N4heqrqrFiv"
   },
   "outputs": [],
   "source": [
    "# pandas usando el alias pd\n",
    "import pandas as pd"
   ]
  },
  {
   "cell_type": "markdown",
   "metadata": {
    "colab_type": "text",
    "id": "iWSmUVFgrJxA"
   },
   "source": [
    "Ejecuta la siguiente celda para cargar el conjunto de datos desde el repositorio en github a la máquina en colab."
   ]
  },
  {
   "cell_type": "code",
   "execution_count": null,
   "metadata": {},
   "outputs": [],
   "source": [
    "# Fetch the dataset using the raw GitHub URL.\n",
    "# Commenting the code because I downloaded this file manually\n",
    "\"\"\"!curl --remote-name \\\n",
    "     -H 'Accept: application/vnd.github.v3.raw' \\\n",
    "     --location https://raw.githubusercontent.com/MauricioRR-Tec/Machine-Learning/master/Notebooks/data/players.csv\"\"\""
   ]
  },
  {
   "cell_type": "markdown",
   "metadata": {
    "colab_type": "text",
    "id": "p5y0gMcxsRzY"
   },
   "source": [
    "Veamos las primeras líneas del archivo usando un comando de linux en la celda de colab:"
   ]
  },
  {
   "cell_type": "code",
   "execution_count": 5,
   "metadata": {
    "colab": {},
    "colab_type": "code",
    "id": "-9y9q8fxsSCl"
   },
   "outputs": [
    {
     "name": "stderr",
     "output_type": "stream",
     "text": [
      "\"head\" no se reconoce como un comando interno o externo,\n",
      "programa o archivo por lotes ejecutable.\n"
     ]
    }
   ],
   "source": [
    "!head -n 5 players.csv"
   ]
  },
  {
   "cell_type": "markdown",
   "metadata": {
    "colab_type": "text",
    "id": "2llZPBeYr5EW"
   },
   "source": [
    "## Carga el conjunto de datos FIFA usando pandas"
   ]
  },
  {
   "cell_type": "code",
   "execution_count": 405,
   "metadata": {
    "colab": {},
    "colab_type": "code",
    "id": "qpE38xDqr4xX"
   },
   "outputs": [
    {
     "data": {
      "text/html": [
       "<div>\n",
       "<style scoped>\n",
       "    .dataframe tbody tr th:only-of-type {\n",
       "        vertical-align: middle;\n",
       "    }\n",
       "\n",
       "    .dataframe tbody tr th {\n",
       "        vertical-align: top;\n",
       "    }\n",
       "\n",
       "    .dataframe thead th {\n",
       "        text-align: right;\n",
       "    }\n",
       "</style>\n",
       "<table border=\"1\" class=\"dataframe\">\n",
       "  <thead>\n",
       "    <tr style=\"text-align: right;\">\n",
       "      <th></th>\n",
       "      <th>ID</th>\n",
       "      <th>Name</th>\n",
       "      <th>Nationality</th>\n",
       "      <th>Club</th>\n",
       "      <th>Jersey Number</th>\n",
       "      <th>Value</th>\n",
       "      <th>Wage</th>\n",
       "      <th>Age</th>\n",
       "      <th>Height</th>\n",
       "      <th>Weight</th>\n",
       "      <th>...</th>\n",
       "      <th>Position</th>\n",
       "      <th>Overall</th>\n",
       "      <th>Potential</th>\n",
       "      <th>Shooting</th>\n",
       "      <th>Defense</th>\n",
       "      <th>Passing</th>\n",
       "      <th>Physical</th>\n",
       "      <th>Control</th>\n",
       "      <th>Mental</th>\n",
       "      <th>GoalKeeping</th>\n",
       "    </tr>\n",
       "  </thead>\n",
       "  <tbody>\n",
       "    <tr>\n",
       "      <th>0</th>\n",
       "      <td>158023</td>\n",
       "      <td>L. Messi</td>\n",
       "      <td>Argentina</td>\n",
       "      <td>FC Barcelona</td>\n",
       "      <td>10.0</td>\n",
       "      <td>€110.5M</td>\n",
       "      <td>€565K</td>\n",
       "      <td>31</td>\n",
       "      <td>5'7</td>\n",
       "      <td>159lbs</td>\n",
       "      <td>...</td>\n",
       "      <td>RF</td>\n",
       "      <td>94</td>\n",
       "      <td>94</td>\n",
       "      <td>86.0</td>\n",
       "      <td>41.0</td>\n",
       "      <td>87.0</td>\n",
       "      <td>80.0</td>\n",
       "      <td>96.0</td>\n",
       "      <td>95.0</td>\n",
       "      <td>11.0</td>\n",
       "    </tr>\n",
       "    <tr>\n",
       "      <th>1</th>\n",
       "      <td>20801</td>\n",
       "      <td>Cristiano Ronaldo</td>\n",
       "      <td>Portugal</td>\n",
       "      <td>Juventus</td>\n",
       "      <td>7.0</td>\n",
       "      <td>€77M</td>\n",
       "      <td>€405K</td>\n",
       "      <td>33</td>\n",
       "      <td>6'2</td>\n",
       "      <td>183lbs</td>\n",
       "      <td>...</td>\n",
       "      <td>ST</td>\n",
       "      <td>94</td>\n",
       "      <td>94</td>\n",
       "      <td>88.0</td>\n",
       "      <td>41.0</td>\n",
       "      <td>81.0</td>\n",
       "      <td>86.0</td>\n",
       "      <td>84.0</td>\n",
       "      <td>91.0</td>\n",
       "      <td>12.0</td>\n",
       "    </tr>\n",
       "    <tr>\n",
       "      <th>2</th>\n",
       "      <td>190871</td>\n",
       "      <td>Neymar Jr</td>\n",
       "      <td>Brazil</td>\n",
       "      <td>Paris Saint-Germain</td>\n",
       "      <td>10.0</td>\n",
       "      <td>€118.5M</td>\n",
       "      <td>€290K</td>\n",
       "      <td>26</td>\n",
       "      <td>5'9</td>\n",
       "      <td>150lbs</td>\n",
       "      <td>...</td>\n",
       "      <td>LW</td>\n",
       "      <td>92</td>\n",
       "      <td>93</td>\n",
       "      <td>81.0</td>\n",
       "      <td>42.0</td>\n",
       "      <td>80.0</td>\n",
       "      <td>79.0</td>\n",
       "      <td>92.0</td>\n",
       "      <td>92.0</td>\n",
       "      <td>12.0</td>\n",
       "    </tr>\n",
       "    <tr>\n",
       "      <th>3</th>\n",
       "      <td>193080</td>\n",
       "      <td>De Gea</td>\n",
       "      <td>Spain</td>\n",
       "      <td>Manchester United</td>\n",
       "      <td>1.0</td>\n",
       "      <td>€72M</td>\n",
       "      <td>€260K</td>\n",
       "      <td>27</td>\n",
       "      <td>6'4</td>\n",
       "      <td>168lbs</td>\n",
       "      <td>...</td>\n",
       "      <td>GK</td>\n",
       "      <td>91</td>\n",
       "      <td>93</td>\n",
       "      <td>21.0</td>\n",
       "      <td>18.0</td>\n",
       "      <td>39.0</td>\n",
       "      <td>56.0</td>\n",
       "      <td>34.0</td>\n",
       "      <td>75.0</td>\n",
       "      <td>89.0</td>\n",
       "    </tr>\n",
       "    <tr>\n",
       "      <th>4</th>\n",
       "      <td>192985</td>\n",
       "      <td>K. De Bruyne</td>\n",
       "      <td>Belgium</td>\n",
       "      <td>Manchester City</td>\n",
       "      <td>7.0</td>\n",
       "      <td>€102M</td>\n",
       "      <td>€355K</td>\n",
       "      <td>27</td>\n",
       "      <td>5'11</td>\n",
       "      <td>154lbs</td>\n",
       "      <td>...</td>\n",
       "      <td>RCM</td>\n",
       "      <td>91</td>\n",
       "      <td>92</td>\n",
       "      <td>81.0</td>\n",
       "      <td>65.0</td>\n",
       "      <td>92.0</td>\n",
       "      <td>77.0</td>\n",
       "      <td>85.0</td>\n",
       "      <td>91.0</td>\n",
       "      <td>11.0</td>\n",
       "    </tr>\n",
       "  </tbody>\n",
       "</table>\n",
       "<p>5 rows × 21 columns</p>\n",
       "</div>"
      ],
      "text/plain": [
       "       ID               Name Nationality                 Club  Jersey Number  \\\n",
       "0  158023           L. Messi   Argentina         FC Barcelona           10.0   \n",
       "1   20801  Cristiano Ronaldo    Portugal             Juventus            7.0   \n",
       "2  190871          Neymar Jr      Brazil  Paris Saint-Germain           10.0   \n",
       "3  193080             De Gea       Spain    Manchester United            1.0   \n",
       "4  192985       K. De Bruyne     Belgium      Manchester City            7.0   \n",
       "\n",
       "     Value   Wage  Age Height  Weight  ... Position Overall  Potential  \\\n",
       "0  €110.5M  €565K   31    5'7  159lbs  ...       RF      94         94   \n",
       "1     €77M  €405K   33    6'2  183lbs  ...       ST      94         94   \n",
       "2  €118.5M  €290K   26    5'9  150lbs  ...       LW      92         93   \n",
       "3     €72M  €260K   27    6'4  168lbs  ...       GK      91         93   \n",
       "4    €102M  €355K   27   5'11  154lbs  ...      RCM      91         92   \n",
       "\n",
       "   Shooting  Defense  Passing  Physical  Control  Mental  GoalKeeping  \n",
       "0      86.0     41.0     87.0      80.0     96.0    95.0         11.0  \n",
       "1      88.0     41.0     81.0      86.0     84.0    91.0         12.0  \n",
       "2      81.0     42.0     80.0      79.0     92.0    92.0         12.0  \n",
       "3      21.0     18.0     39.0      56.0     34.0    75.0         89.0  \n",
       "4      81.0     65.0     92.0      77.0     85.0    91.0         11.0  \n",
       "\n",
       "[5 rows x 21 columns]"
      ]
     },
     "execution_count": 405,
     "metadata": {},
     "output_type": "execute_result"
    }
   ],
   "source": [
    "# leer el dataframe usando read_csv\n",
    "fifa_df = pd.read_csv(\"players.csv\", sep=',', header=0)\n",
    "# mostrar los primeros elementos con head\n",
    "fifa_df.head()"
   ]
  },
  {
   "cell_type": "markdown",
   "metadata": {
    "colab_type": "text",
    "id": "45oYL86ST8RO"
   },
   "source": [
    "## Características del dataset"
   ]
  },
  {
   "cell_type": "markdown",
   "metadata": {
    "colab_type": "text",
    "id": "NnVgDmdSdZQk"
   },
   "source": [
    "¿Qué tipos de datos contiene nuestro dataframe?"
   ]
  },
  {
   "cell_type": "code",
   "execution_count": 406,
   "metadata": {
    "colab": {},
    "colab_type": "code",
    "id": "1kzDpxYK0EvY"
   },
   "outputs": [
    {
     "name": "stdout",
     "output_type": "stream",
     "text": [
      "ID int64\n",
      "Name object\n",
      "Nationality object\n",
      "Club object\n",
      "Jersey Number float64\n",
      "Value object\n",
      "Wage object\n",
      "Age int64\n",
      "Height object\n",
      "Weight object\n",
      "Preferred Foot object\n",
      "Position object\n",
      "Overall int64\n",
      "Potential int64\n",
      "Shooting float64\n",
      "Defense float64\n",
      "Passing float64\n",
      "Physical float64\n",
      "Control float64\n",
      "Mental float64\n",
      "GoalKeeping float64\n"
     ]
    }
   ],
   "source": [
    "for name, t in zip(fifa_df.columns, fifa_df.dtypes):\n",
    "  print(name, t)"
   ]
  },
  {
   "cell_type": "markdown",
   "metadata": {
    "colab_type": "text",
    "id": "GWsJyCIMtscZ"
   },
   "source": [
    "¿Qué tamaño tiene nuestro dataset?\n",
    "\n",
    "Utiliza el método ```shape``` para conocer el número de filas y columnas en el dataframe."
   ]
  },
  {
   "cell_type": "code",
   "execution_count": 407,
   "metadata": {
    "colab": {},
    "colab_type": "code",
    "id": "d3qNHHbAtxNp"
   },
   "outputs": [
    {
     "name": "stdout",
     "output_type": "stream",
     "text": [
      "Filas: 18207\n",
      "Columnas: 21\n"
     ]
    }
   ],
   "source": [
    "m,n = fifa_df.shape\n",
    "print(\"Filas:\", m)\n",
    "print(\"Columnas:\", n)"
   ]
  },
  {
   "cell_type": "code",
   "execution_count": 408,
   "metadata": {
    "colab": {},
    "colab_type": "code",
    "id": "yjcIL89FuA0u"
   },
   "outputs": [],
   "source": [
    "assert m == 18207 and n == 21, \"Error en las dimensiones\""
   ]
  },
  {
   "cell_type": "markdown",
   "metadata": {
    "colab_type": "text",
    "id": "xk3ES367UKfQ"
   },
   "source": [
    "### Estadísticas generales del dataset.\n",
    "\n",
    "Usa ```describre()``` para mostrar las estadísticas generales de las columnas numéricas en el dataframe."
   ]
  },
  {
   "cell_type": "code",
   "execution_count": 409,
   "metadata": {
    "colab": {},
    "colab_type": "code",
    "id": "QKmF6WUUUKuM"
   },
   "outputs": [
    {
     "data": {
      "text/html": [
       "<div>\n",
       "<style scoped>\n",
       "    .dataframe tbody tr th:only-of-type {\n",
       "        vertical-align: middle;\n",
       "    }\n",
       "\n",
       "    .dataframe tbody tr th {\n",
       "        vertical-align: top;\n",
       "    }\n",
       "\n",
       "    .dataframe thead th {\n",
       "        text-align: right;\n",
       "    }\n",
       "</style>\n",
       "<table border=\"1\" class=\"dataframe\">\n",
       "  <thead>\n",
       "    <tr style=\"text-align: right;\">\n",
       "      <th></th>\n",
       "      <th>ID</th>\n",
       "      <th>Jersey Number</th>\n",
       "      <th>Age</th>\n",
       "      <th>Overall</th>\n",
       "      <th>Potential</th>\n",
       "      <th>Shooting</th>\n",
       "      <th>Defense</th>\n",
       "      <th>Passing</th>\n",
       "      <th>Physical</th>\n",
       "      <th>Control</th>\n",
       "      <th>Mental</th>\n",
       "      <th>GoalKeeping</th>\n",
       "    </tr>\n",
       "  </thead>\n",
       "  <tbody>\n",
       "    <tr>\n",
       "      <th>count</th>\n",
       "      <td>18207.000000</td>\n",
       "      <td>18147.000000</td>\n",
       "      <td>18207.000000</td>\n",
       "      <td>18207.000000</td>\n",
       "      <td>18207.000000</td>\n",
       "      <td>18159.000000</td>\n",
       "      <td>18159.000000</td>\n",
       "      <td>18159.000000</td>\n",
       "      <td>18159.000000</td>\n",
       "      <td>18159.000000</td>\n",
       "      <td>18159.000000</td>\n",
       "      <td>18159.000000</td>\n",
       "    </tr>\n",
       "    <tr>\n",
       "      <th>mean</th>\n",
       "      <td>214298.338606</td>\n",
       "      <td>19.546096</td>\n",
       "      <td>25.122206</td>\n",
       "      <td>66.238699</td>\n",
       "      <td>71.307299</td>\n",
       "      <td>47.736274</td>\n",
       "      <td>47.459001</td>\n",
       "      <td>53.710612</td>\n",
       "      <td>64.344512</td>\n",
       "      <td>59.236357</td>\n",
       "      <td>57.958974</td>\n",
       "      <td>16.468087</td>\n",
       "    </tr>\n",
       "    <tr>\n",
       "      <th>std</th>\n",
       "      <td>29965.244204</td>\n",
       "      <td>15.947765</td>\n",
       "      <td>4.669943</td>\n",
       "      <td>6.908930</td>\n",
       "      <td>6.136496</td>\n",
       "      <td>15.621702</td>\n",
       "      <td>17.314439</td>\n",
       "      <td>15.113052</td>\n",
       "      <td>9.839120</td>\n",
       "      <td>15.156389</td>\n",
       "      <td>9.933340</td>\n",
       "      <td>17.002775</td>\n",
       "    </tr>\n",
       "    <tr>\n",
       "      <th>min</th>\n",
       "      <td>16.000000</td>\n",
       "      <td>1.000000</td>\n",
       "      <td>16.000000</td>\n",
       "      <td>46.000000</td>\n",
       "      <td>48.000000</td>\n",
       "      <td>7.000000</td>\n",
       "      <td>7.000000</td>\n",
       "      <td>8.000000</td>\n",
       "      <td>22.000000</td>\n",
       "      <td>12.000000</td>\n",
       "      <td>25.000000</td>\n",
       "      <td>1.000000</td>\n",
       "    </tr>\n",
       "    <tr>\n",
       "      <th>25%</th>\n",
       "      <td>200315.500000</td>\n",
       "      <td>8.000000</td>\n",
       "      <td>21.000000</td>\n",
       "      <td>62.000000</td>\n",
       "      <td>67.000000</td>\n",
       "      <td>39.000000</td>\n",
       "      <td>35.000000</td>\n",
       "      <td>46.000000</td>\n",
       "      <td>60.000000</td>\n",
       "      <td>54.000000</td>\n",
       "      <td>51.000000</td>\n",
       "      <td>10.000000</td>\n",
       "    </tr>\n",
       "    <tr>\n",
       "      <th>50%</th>\n",
       "      <td>221759.000000</td>\n",
       "      <td>17.000000</td>\n",
       "      <td>25.000000</td>\n",
       "      <td>66.000000</td>\n",
       "      <td>71.000000</td>\n",
       "      <td>50.000000</td>\n",
       "      <td>52.000000</td>\n",
       "      <td>57.000000</td>\n",
       "      <td>66.000000</td>\n",
       "      <td>63.000000</td>\n",
       "      <td>58.000000</td>\n",
       "      <td>11.000000</td>\n",
       "    </tr>\n",
       "    <tr>\n",
       "      <th>75%</th>\n",
       "      <td>236529.500000</td>\n",
       "      <td>26.000000</td>\n",
       "      <td>28.000000</td>\n",
       "      <td>71.000000</td>\n",
       "      <td>75.000000</td>\n",
       "      <td>59.000000</td>\n",
       "      <td>61.000000</td>\n",
       "      <td>64.000000</td>\n",
       "      <td>71.000000</td>\n",
       "      <td>69.000000</td>\n",
       "      <td>65.000000</td>\n",
       "      <td>12.000000</td>\n",
       "    </tr>\n",
       "    <tr>\n",
       "      <th>max</th>\n",
       "      <td>246620.000000</td>\n",
       "      <td>99.000000</td>\n",
       "      <td>45.000000</td>\n",
       "      <td>94.000000</td>\n",
       "      <td>95.000000</td>\n",
       "      <td>88.000000</td>\n",
       "      <td>86.000000</td>\n",
       "      <td>92.000000</td>\n",
       "      <td>89.000000</td>\n",
       "      <td>96.000000</td>\n",
       "      <td>95.000000</td>\n",
       "      <td>89.000000</td>\n",
       "    </tr>\n",
       "  </tbody>\n",
       "</table>\n",
       "</div>"
      ],
      "text/plain": [
       "                  ID  Jersey Number           Age       Overall     Potential  \\\n",
       "count   18207.000000   18147.000000  18207.000000  18207.000000  18207.000000   \n",
       "mean   214298.338606      19.546096     25.122206     66.238699     71.307299   \n",
       "std     29965.244204      15.947765      4.669943      6.908930      6.136496   \n",
       "min        16.000000       1.000000     16.000000     46.000000     48.000000   \n",
       "25%    200315.500000       8.000000     21.000000     62.000000     67.000000   \n",
       "50%    221759.000000      17.000000     25.000000     66.000000     71.000000   \n",
       "75%    236529.500000      26.000000     28.000000     71.000000     75.000000   \n",
       "max    246620.000000      99.000000     45.000000     94.000000     95.000000   \n",
       "\n",
       "           Shooting       Defense       Passing      Physical       Control  \\\n",
       "count  18159.000000  18159.000000  18159.000000  18159.000000  18159.000000   \n",
       "mean      47.736274     47.459001     53.710612     64.344512     59.236357   \n",
       "std       15.621702     17.314439     15.113052      9.839120     15.156389   \n",
       "min        7.000000      7.000000      8.000000     22.000000     12.000000   \n",
       "25%       39.000000     35.000000     46.000000     60.000000     54.000000   \n",
       "50%       50.000000     52.000000     57.000000     66.000000     63.000000   \n",
       "75%       59.000000     61.000000     64.000000     71.000000     69.000000   \n",
       "max       88.000000     86.000000     92.000000     89.000000     96.000000   \n",
       "\n",
       "             Mental   GoalKeeping  \n",
       "count  18159.000000  18159.000000  \n",
       "mean      57.958974     16.468087  \n",
       "std        9.933340     17.002775  \n",
       "min       25.000000      1.000000  \n",
       "25%       51.000000     10.000000  \n",
       "50%       58.000000     11.000000  \n",
       "75%       65.000000     12.000000  \n",
       "max       95.000000     89.000000  "
      ]
     },
     "execution_count": 409,
     "metadata": {},
     "output_type": "execute_result"
    }
   ],
   "source": [
    "fifa_df.describe()"
   ]
  },
  {
   "cell_type": "markdown",
   "metadata": {
    "colab_type": "text",
    "id": "M7gI3AUceQxn"
   },
   "source": [
    "## Tratamiento de datos\n"
   ]
  },
  {
   "cell_type": "markdown",
   "metadata": {
    "colab_type": "text",
    "id": "lY9Wx2ZVjLfE"
   },
   "source": [
    "### Datos faltantes\n",
    "\n",
    "Antes de poder hacer transformaciones y operaciones en los datos, es importante identificar la posible existencia de datos faltantes. El método ```isna()``` de pandas, permite obtener un dataframe booleano que identifica entradas faltantes. \n",
    "\n",
    "Usémos ```isna()```, ```sum(axis=0)``` y ```to_frame().T``` para resumir el resultado de datos faltantes como un conteo por columnas:"
   ]
  },
  {
   "cell_type": "code",
   "execution_count": 410,
   "metadata": {
    "colab": {},
    "colab_type": "code",
    "id": "4V_yaO_lOKnv"
   },
   "outputs": [
    {
     "data": {
      "text/html": [
       "<div>\n",
       "<style scoped>\n",
       "    .dataframe tbody tr th:only-of-type {\n",
       "        vertical-align: middle;\n",
       "    }\n",
       "\n",
       "    .dataframe tbody tr th {\n",
       "        vertical-align: top;\n",
       "    }\n",
       "\n",
       "    .dataframe thead th {\n",
       "        text-align: right;\n",
       "    }\n",
       "</style>\n",
       "<table border=\"1\" class=\"dataframe\">\n",
       "  <thead>\n",
       "    <tr style=\"text-align: right;\">\n",
       "      <th></th>\n",
       "      <th>ID</th>\n",
       "      <th>Name</th>\n",
       "      <th>Nationality</th>\n",
       "      <th>Club</th>\n",
       "      <th>Jersey Number</th>\n",
       "      <th>Value</th>\n",
       "      <th>Wage</th>\n",
       "      <th>Age</th>\n",
       "      <th>Height</th>\n",
       "      <th>Weight</th>\n",
       "      <th>...</th>\n",
       "      <th>Position</th>\n",
       "      <th>Overall</th>\n",
       "      <th>Potential</th>\n",
       "      <th>Shooting</th>\n",
       "      <th>Defense</th>\n",
       "      <th>Passing</th>\n",
       "      <th>Physical</th>\n",
       "      <th>Control</th>\n",
       "      <th>Mental</th>\n",
       "      <th>GoalKeeping</th>\n",
       "    </tr>\n",
       "  </thead>\n",
       "  <tbody>\n",
       "    <tr>\n",
       "      <th>0</th>\n",
       "      <td>0</td>\n",
       "      <td>0</td>\n",
       "      <td>0</td>\n",
       "      <td>241</td>\n",
       "      <td>60</td>\n",
       "      <td>0</td>\n",
       "      <td>0</td>\n",
       "      <td>0</td>\n",
       "      <td>48</td>\n",
       "      <td>48</td>\n",
       "      <td>...</td>\n",
       "      <td>60</td>\n",
       "      <td>0</td>\n",
       "      <td>0</td>\n",
       "      <td>48</td>\n",
       "      <td>48</td>\n",
       "      <td>48</td>\n",
       "      <td>48</td>\n",
       "      <td>48</td>\n",
       "      <td>48</td>\n",
       "      <td>48</td>\n",
       "    </tr>\n",
       "  </tbody>\n",
       "</table>\n",
       "<p>1 rows × 21 columns</p>\n",
       "</div>"
      ],
      "text/plain": [
       "   ID  Name  Nationality  Club  Jersey Number  Value  Wage  Age  Height  \\\n",
       "0   0     0            0   241             60      0     0    0      48   \n",
       "\n",
       "   Weight  ...  Position  Overall  Potential  Shooting  Defense  Passing  \\\n",
       "0      48  ...        60        0          0        48       48       48   \n",
       "\n",
       "   Physical  Control  Mental  GoalKeeping  \n",
       "0        48       48      48           48  \n",
       "\n",
       "[1 rows x 21 columns]"
      ]
     },
     "execution_count": 410,
     "metadata": {},
     "output_type": "execute_result"
    }
   ],
   "source": [
    "fifa_df.isna().sum(axis=0).to_frame().T"
   ]
  },
  {
   "cell_type": "markdown",
   "metadata": {
    "colab_type": "text",
    "id": "sqr4xWue_fyB"
   },
   "source": [
    "Una manera de tratar con datos faltantes, es eliminar las filas que contienen uno o más datos faltantes, dejando solo registros completos.\n",
    "\n",
    "Ya que para nuestro conjunto de datos la cantidad de faltantes es mínima, podemos usar esta estrategia.\n",
    "\n",
    "Completa la siguiente celda para eliminar filas (```axis=0```) que contengan algún dato faltante (```dropna```):"
   ]
  },
  {
   "cell_type": "code",
   "execution_count": 411,
   "metadata": {
    "colab": {},
    "colab_type": "code",
    "id": "3mPe2ufH_RF0"
   },
   "outputs": [],
   "source": [
    "t_df = fifa_df.dropna(axis=0)"
   ]
  },
  {
   "cell_type": "markdown",
   "metadata": {
    "colab_type": "text",
    "id": "8uCtFmp1_wsC"
   },
   "source": [
    "Verifica que no hay más datos faltantes:"
   ]
  },
  {
   "cell_type": "code",
   "execution_count": 412,
   "metadata": {
    "colab": {},
    "colab_type": "code",
    "id": "RvgIwrck_vFw"
   },
   "outputs": [
    {
     "data": {
      "text/html": [
       "<div>\n",
       "<style scoped>\n",
       "    .dataframe tbody tr th:only-of-type {\n",
       "        vertical-align: middle;\n",
       "    }\n",
       "\n",
       "    .dataframe tbody tr th {\n",
       "        vertical-align: top;\n",
       "    }\n",
       "\n",
       "    .dataframe thead th {\n",
       "        text-align: right;\n",
       "    }\n",
       "</style>\n",
       "<table border=\"1\" class=\"dataframe\">\n",
       "  <thead>\n",
       "    <tr style=\"text-align: right;\">\n",
       "      <th></th>\n",
       "      <th>ID</th>\n",
       "      <th>Name</th>\n",
       "      <th>Nationality</th>\n",
       "      <th>Club</th>\n",
       "      <th>Jersey Number</th>\n",
       "      <th>Value</th>\n",
       "      <th>Wage</th>\n",
       "      <th>Age</th>\n",
       "      <th>Height</th>\n",
       "      <th>Weight</th>\n",
       "      <th>...</th>\n",
       "      <th>Position</th>\n",
       "      <th>Overall</th>\n",
       "      <th>Potential</th>\n",
       "      <th>Shooting</th>\n",
       "      <th>Defense</th>\n",
       "      <th>Passing</th>\n",
       "      <th>Physical</th>\n",
       "      <th>Control</th>\n",
       "      <th>Mental</th>\n",
       "      <th>GoalKeeping</th>\n",
       "    </tr>\n",
       "  </thead>\n",
       "  <tbody>\n",
       "    <tr>\n",
       "      <th>0</th>\n",
       "      <td>0</td>\n",
       "      <td>0</td>\n",
       "      <td>0</td>\n",
       "      <td>0</td>\n",
       "      <td>0</td>\n",
       "      <td>0</td>\n",
       "      <td>0</td>\n",
       "      <td>0</td>\n",
       "      <td>0</td>\n",
       "      <td>0</td>\n",
       "      <td>...</td>\n",
       "      <td>0</td>\n",
       "      <td>0</td>\n",
       "      <td>0</td>\n",
       "      <td>0</td>\n",
       "      <td>0</td>\n",
       "      <td>0</td>\n",
       "      <td>0</td>\n",
       "      <td>0</td>\n",
       "      <td>0</td>\n",
       "      <td>0</td>\n",
       "    </tr>\n",
       "  </tbody>\n",
       "</table>\n",
       "<p>1 rows × 21 columns</p>\n",
       "</div>"
      ],
      "text/plain": [
       "   ID  Name  Nationality  Club  Jersey Number  Value  Wage  Age  Height  \\\n",
       "0   0     0            0     0              0      0     0    0       0   \n",
       "\n",
       "   Weight  ...  Position  Overall  Potential  Shooting  Defense  Passing  \\\n",
       "0       0  ...         0        0          0         0        0        0   \n",
       "\n",
       "   Physical  Control  Mental  GoalKeeping  \n",
       "0         0        0       0            0  \n",
       "\n",
       "[1 rows x 21 columns]"
      ]
     },
     "execution_count": 412,
     "metadata": {},
     "output_type": "execute_result"
    }
   ],
   "source": [
    "empty_columns = t_df.isna().sum(axis=0).to_frame().T\n",
    "empty_columns"
   ]
  },
  {
   "cell_type": "code",
   "execution_count": 413,
   "metadata": {
    "colab": {},
    "colab_type": "code",
    "id": "mnwBq3J1-jp1"
   },
   "outputs": [],
   "source": [
    "assert empty_columns.values.sum() == 0, \"Error, aun hay datos faltantes\""
   ]
  },
  {
   "cell_type": "markdown",
   "metadata": {
    "colab_type": "text",
    "id": "oiKIUMTTAvVX"
   },
   "source": [
    "Finalmente, reemplazar el dataframe original por el nuevo sin elementos faltantes."
   ]
  },
  {
   "cell_type": "code",
   "execution_count": 414,
   "metadata": {
    "colab": {},
    "colab_type": "code",
    "id": "0U8cSIyJAvpA"
   },
   "outputs": [],
   "source": [
    "fifa_df = t_df"
   ]
  },
  {
   "cell_type": "markdown",
   "metadata": {
    "colab_type": "text",
    "id": "-JYl7aVLjHkH"
   },
   "source": [
    "### Transformaciones\n",
    "\n",
    "Las celdas fueron inferidas como tipo ```object``` por pandas. Algunas de éstas contienen datos numéricos que podrían ser útiles para el análisis. \n",
    "\n",
    "Por ejemplo, las columnas ```Wage``` y ```Value``` contienen datos sobre el salario y el valor en el mercado de cada jugador. Ambas columnas contienen el signo de la moneda (€) al inicio y al final pueden contener la abreviación de cantidades (K miles, M millones). \n",
    "\n",
    "Debemos realizar un tratamiento de datos en tales columnas para poder usarlas de manera numérica."
   ]
  },
  {
   "cell_type": "markdown",
   "metadata": {
    "colab_type": "text",
    "id": "maMPRPAzxbqX"
   },
   "source": [
    "Primero, confirmemos que solo tenemos casos donde las cantidades terminan en K, M o sin abreviaturas. Usemos funciones de agregación.\n",
    "\n",
    "Contemos las veces que aparecen los distintos caracteres al final de los registros en la columna ```Wage```:"
   ]
  },
  {
   "cell_type": "code",
   "execution_count": 415,
   "metadata": {
    "colab": {},
    "colab_type": "code",
    "id": "VPojzkU5s_iJ"
   },
   "outputs": [
    {
     "data": {
      "text/html": [
       "<div>\n",
       "<style scoped>\n",
       "    .dataframe tbody tr th:only-of-type {\n",
       "        vertical-align: middle;\n",
       "    }\n",
       "\n",
       "    .dataframe tbody tr th {\n",
       "        vertical-align: top;\n",
       "    }\n",
       "\n",
       "    .dataframe thead th {\n",
       "        text-align: right;\n",
       "    }\n",
       "</style>\n",
       "<table border=\"1\" class=\"dataframe\">\n",
       "  <thead>\n",
       "    <tr style=\"text-align: right;\">\n",
       "      <th></th>\n",
       "      <th>Wage</th>\n",
       "    </tr>\n",
       "    <tr>\n",
       "      <th>Wage</th>\n",
       "      <th></th>\n",
       "    </tr>\n",
       "  </thead>\n",
       "  <tbody>\n",
       "    <tr>\n",
       "      <th>K</th>\n",
       "      <td>17918</td>\n",
       "    </tr>\n",
       "  </tbody>\n",
       "</table>\n",
       "</div>"
      ],
      "text/plain": [
       "       Wage\n",
       "Wage       \n",
       "K     17918"
      ]
     },
     "execution_count": 415,
     "metadata": {},
     "output_type": "execute_result"
    }
   ],
   "source": [
    "fifa_df[[\"Wage\"]].groupby(fifa_df.Wage.str[-1]).count()"
   ]
  },
  {
   "cell_type": "markdown",
   "metadata": {
    "colab_type": "text",
    "id": "aOrZkbQru0_0"
   },
   "source": [
    "Contemos las veces que aparecen los distintos caracteres al final de los registros en la columna ```Value```:"
   ]
  },
  {
   "cell_type": "code",
   "execution_count": 416,
   "metadata": {
    "colab": {},
    "colab_type": "code",
    "id": "y1GjUZ4Gti1d"
   },
   "outputs": [
    {
     "data": {
      "text/html": [
       "<div>\n",
       "<style scoped>\n",
       "    .dataframe tbody tr th:only-of-type {\n",
       "        vertical-align: middle;\n",
       "    }\n",
       "\n",
       "    .dataframe tbody tr th {\n",
       "        vertical-align: top;\n",
       "    }\n",
       "\n",
       "    .dataframe thead th {\n",
       "        text-align: right;\n",
       "    }\n",
       "</style>\n",
       "<table border=\"1\" class=\"dataframe\">\n",
       "  <thead>\n",
       "    <tr style=\"text-align: right;\">\n",
       "      <th></th>\n",
       "      <th>Value</th>\n",
       "    </tr>\n",
       "    <tr>\n",
       "      <th>Value</th>\n",
       "      <th></th>\n",
       "    </tr>\n",
       "  </thead>\n",
       "  <tbody>\n",
       "    <tr>\n",
       "      <th>0</th>\n",
       "      <td>11</td>\n",
       "    </tr>\n",
       "    <tr>\n",
       "      <th>K</th>\n",
       "      <td>11060</td>\n",
       "    </tr>\n",
       "    <tr>\n",
       "      <th>M</th>\n",
       "      <td>6847</td>\n",
       "    </tr>\n",
       "  </tbody>\n",
       "</table>\n",
       "</div>"
      ],
      "text/plain": [
       "       Value\n",
       "Value       \n",
       "0         11\n",
       "K      11060\n",
       "M       6847"
      ]
     },
     "execution_count": 416,
     "metadata": {},
     "output_type": "execute_result"
    }
   ],
   "source": [
    "fifa_df[[\"Value\"]].groupby(fifa_df.Value.str[-1]).count()"
   ]
  },
  {
   "cell_type": "code",
   "execution_count": 417,
   "metadata": {
    "colab": {},
    "colab_type": "code",
    "id": "0Ar7f3NmeTWu"
   },
   "outputs": [],
   "source": [
    "def currency_to_numeric(currency):\n",
    "  \"\"\"\n",
    "  La funcion recibe valores monetarios en un objeto de texto, los tranforma:\n",
    "  1- Elimina el simbolo de la moneda al inicio de la cadena\n",
    "  2- Extrae el caracter adicional al final de la cadena que indica el\n",
    "     multiplo de la cantidad (abreviatura). No siempre hay un simbolo.\n",
    "  3- Usa el valor para devolver la cantidad en numero (multiplica por el valor).\n",
    "  Ej: 250K pasa a 250000\n",
    "  ya que\n",
    "  1K = 1000\n",
    "  1M = 1000000\n",
    "  Sin letra solo parte numerica\n",
    "  \"\"\"\n",
    "  # el multiplo de K o M\n",
    "  symbols = {\"K\": 1000, \"M\": 1000000}\n",
    "  # Actualiza el valor de numeric con la cantidad en currency\n",
    "  numeric = 0.0\n",
    "\n",
    "  # 1. Removing the first symbol\n",
    "  new_curr = currency[1:]\n",
    "\n",
    "  # 2. Removing the last character if it's a K or an M \n",
    "  removed_char = \"\"\n",
    "  if new_curr.endswith('K') or new_curr.endswith('M'):\n",
    "    removed_char = new_curr[-1]\n",
    "    new_curr = new_curr[:-1]\n",
    "  else: \n",
    "    new_curr\n",
    "\n",
    "  # 3. Multiply  the quantity depending on the symbol\n",
    "  if(removed_char=='K'):\n",
    "    numeric = float(new_curr)\n",
    "    numeric = numeric*1000\n",
    "  elif(removed_char=='M'):\n",
    "    numeric = float(new_curr)\n",
    "    numeric = numeric*1000000\n",
    "  else:\n",
    "    numeric = float(new_curr)\n",
    "  \n",
    "  return numeric"
   ]
  },
  {
   "cell_type": "markdown",
   "metadata": {
    "colab_type": "text",
    "id": "fvCFRq0shNl_"
   },
   "source": [
    "Prueba tu función:"
   ]
  },
  {
   "cell_type": "code",
   "execution_count": 418,
   "metadata": {
    "colab": {},
    "colab_type": "code",
    "id": "LpevNclWhMBm"
   },
   "outputs": [
    {
     "name": "stdout",
     "output_type": "stream",
     "text": [
      "2000000000.0\n"
     ]
    }
   ],
   "source": [
    "print(currency_to_numeric(\"$2000M\"))"
   ]
  },
  {
   "cell_type": "code",
   "execution_count": 419,
   "metadata": {
    "colab": {},
    "colab_type": "code",
    "id": "Ti7YRyBRzzuk"
   },
   "outputs": [],
   "source": [
    "assert currency_to_numeric(\"$20\") == 20.0 and currency_to_numeric(\"$50K\") == 50*10.0**3 and currency_to_numeric(\"$10M\") == 10*10.0**6, \"Error\""
   ]
  },
  {
   "cell_type": "markdown",
   "metadata": {
    "colab_type": "text",
    "id": "2qhnh9vLhQSf"
   },
   "source": [
    "Cambia las columnas ```Wage``` y ```Value``` a numéricos usando ```currency_to_numeric``` elemento por elemento con ```applymap```:"
   ]
  },
  {
   "cell_type": "code",
   "execution_count": 420,
   "metadata": {
    "colab": {},
    "colab_type": "code",
    "id": "Md4hPL9ohZXS"
   },
   "outputs": [
    {
     "data": {
      "text/html": [
       "<div>\n",
       "<style scoped>\n",
       "    .dataframe tbody tr th:only-of-type {\n",
       "        vertical-align: middle;\n",
       "    }\n",
       "\n",
       "    .dataframe tbody tr th {\n",
       "        vertical-align: top;\n",
       "    }\n",
       "\n",
       "    .dataframe thead th {\n",
       "        text-align: right;\n",
       "    }\n",
       "</style>\n",
       "<table border=\"1\" class=\"dataframe\">\n",
       "  <thead>\n",
       "    <tr style=\"text-align: right;\">\n",
       "      <th></th>\n",
       "      <th>ID</th>\n",
       "      <th>Name</th>\n",
       "      <th>Nationality</th>\n",
       "      <th>Club</th>\n",
       "      <th>Jersey Number</th>\n",
       "      <th>Value</th>\n",
       "      <th>Wage</th>\n",
       "      <th>Age</th>\n",
       "      <th>Height</th>\n",
       "      <th>Weight</th>\n",
       "      <th>...</th>\n",
       "      <th>Position</th>\n",
       "      <th>Overall</th>\n",
       "      <th>Potential</th>\n",
       "      <th>Shooting</th>\n",
       "      <th>Defense</th>\n",
       "      <th>Passing</th>\n",
       "      <th>Physical</th>\n",
       "      <th>Control</th>\n",
       "      <th>Mental</th>\n",
       "      <th>GoalKeeping</th>\n",
       "    </tr>\n",
       "  </thead>\n",
       "  <tbody>\n",
       "    <tr>\n",
       "      <th>0</th>\n",
       "      <td>158023</td>\n",
       "      <td>L. Messi</td>\n",
       "      <td>Argentina</td>\n",
       "      <td>FC Barcelona</td>\n",
       "      <td>10.0</td>\n",
       "      <td>110500000.0</td>\n",
       "      <td>565000.0</td>\n",
       "      <td>31</td>\n",
       "      <td>5'7</td>\n",
       "      <td>159lbs</td>\n",
       "      <td>...</td>\n",
       "      <td>RF</td>\n",
       "      <td>94</td>\n",
       "      <td>94</td>\n",
       "      <td>86.0</td>\n",
       "      <td>41.0</td>\n",
       "      <td>87.0</td>\n",
       "      <td>80.0</td>\n",
       "      <td>96.0</td>\n",
       "      <td>95.0</td>\n",
       "      <td>11.0</td>\n",
       "    </tr>\n",
       "    <tr>\n",
       "      <th>1</th>\n",
       "      <td>20801</td>\n",
       "      <td>Cristiano Ronaldo</td>\n",
       "      <td>Portugal</td>\n",
       "      <td>Juventus</td>\n",
       "      <td>7.0</td>\n",
       "      <td>77000000.0</td>\n",
       "      <td>405000.0</td>\n",
       "      <td>33</td>\n",
       "      <td>6'2</td>\n",
       "      <td>183lbs</td>\n",
       "      <td>...</td>\n",
       "      <td>ST</td>\n",
       "      <td>94</td>\n",
       "      <td>94</td>\n",
       "      <td>88.0</td>\n",
       "      <td>41.0</td>\n",
       "      <td>81.0</td>\n",
       "      <td>86.0</td>\n",
       "      <td>84.0</td>\n",
       "      <td>91.0</td>\n",
       "      <td>12.0</td>\n",
       "    </tr>\n",
       "    <tr>\n",
       "      <th>2</th>\n",
       "      <td>190871</td>\n",
       "      <td>Neymar Jr</td>\n",
       "      <td>Brazil</td>\n",
       "      <td>Paris Saint-Germain</td>\n",
       "      <td>10.0</td>\n",
       "      <td>118500000.0</td>\n",
       "      <td>290000.0</td>\n",
       "      <td>26</td>\n",
       "      <td>5'9</td>\n",
       "      <td>150lbs</td>\n",
       "      <td>...</td>\n",
       "      <td>LW</td>\n",
       "      <td>92</td>\n",
       "      <td>93</td>\n",
       "      <td>81.0</td>\n",
       "      <td>42.0</td>\n",
       "      <td>80.0</td>\n",
       "      <td>79.0</td>\n",
       "      <td>92.0</td>\n",
       "      <td>92.0</td>\n",
       "      <td>12.0</td>\n",
       "    </tr>\n",
       "    <tr>\n",
       "      <th>3</th>\n",
       "      <td>193080</td>\n",
       "      <td>De Gea</td>\n",
       "      <td>Spain</td>\n",
       "      <td>Manchester United</td>\n",
       "      <td>1.0</td>\n",
       "      <td>72000000.0</td>\n",
       "      <td>260000.0</td>\n",
       "      <td>27</td>\n",
       "      <td>6'4</td>\n",
       "      <td>168lbs</td>\n",
       "      <td>...</td>\n",
       "      <td>GK</td>\n",
       "      <td>91</td>\n",
       "      <td>93</td>\n",
       "      <td>21.0</td>\n",
       "      <td>18.0</td>\n",
       "      <td>39.0</td>\n",
       "      <td>56.0</td>\n",
       "      <td>34.0</td>\n",
       "      <td>75.0</td>\n",
       "      <td>89.0</td>\n",
       "    </tr>\n",
       "    <tr>\n",
       "      <th>4</th>\n",
       "      <td>192985</td>\n",
       "      <td>K. De Bruyne</td>\n",
       "      <td>Belgium</td>\n",
       "      <td>Manchester City</td>\n",
       "      <td>7.0</td>\n",
       "      <td>102000000.0</td>\n",
       "      <td>355000.0</td>\n",
       "      <td>27</td>\n",
       "      <td>5'11</td>\n",
       "      <td>154lbs</td>\n",
       "      <td>...</td>\n",
       "      <td>RCM</td>\n",
       "      <td>91</td>\n",
       "      <td>92</td>\n",
       "      <td>81.0</td>\n",
       "      <td>65.0</td>\n",
       "      <td>92.0</td>\n",
       "      <td>77.0</td>\n",
       "      <td>85.0</td>\n",
       "      <td>91.0</td>\n",
       "      <td>11.0</td>\n",
       "    </tr>\n",
       "  </tbody>\n",
       "</table>\n",
       "<p>5 rows × 21 columns</p>\n",
       "</div>"
      ],
      "text/plain": [
       "       ID               Name Nationality                 Club  Jersey Number  \\\n",
       "0  158023           L. Messi   Argentina         FC Barcelona           10.0   \n",
       "1   20801  Cristiano Ronaldo    Portugal             Juventus            7.0   \n",
       "2  190871          Neymar Jr      Brazil  Paris Saint-Germain           10.0   \n",
       "3  193080             De Gea       Spain    Manchester United            1.0   \n",
       "4  192985       K. De Bruyne     Belgium      Manchester City            7.0   \n",
       "\n",
       "         Value      Wage  Age Height  Weight  ... Position Overall  Potential  \\\n",
       "0  110500000.0  565000.0   31    5'7  159lbs  ...       RF      94         94   \n",
       "1   77000000.0  405000.0   33    6'2  183lbs  ...       ST      94         94   \n",
       "2  118500000.0  290000.0   26    5'9  150lbs  ...       LW      92         93   \n",
       "3   72000000.0  260000.0   27    6'4  168lbs  ...       GK      91         93   \n",
       "4  102000000.0  355000.0   27   5'11  154lbs  ...      RCM      91         92   \n",
       "\n",
       "   Shooting  Defense  Passing  Physical  Control  Mental  GoalKeeping  \n",
       "0      86.0     41.0     87.0      80.0     96.0    95.0         11.0  \n",
       "1      88.0     41.0     81.0      86.0     84.0    91.0         12.0  \n",
       "2      81.0     42.0     80.0      79.0     92.0    92.0         12.0  \n",
       "3      21.0     18.0     39.0      56.0     34.0    75.0         89.0  \n",
       "4      81.0     65.0     92.0      77.0     85.0    91.0         11.0  \n",
       "\n",
       "[5 rows x 21 columns]"
      ]
     },
     "execution_count": 420,
     "metadata": {},
     "output_type": "execute_result"
    }
   ],
   "source": [
    "fifa_df[[\"Wage\", \"Value\"]] = fifa_df[[\"Wage\", \"Value\"]].applymap(lambda x:currency_to_numeric(x))\n",
    "fifa_df.head()"
   ]
  },
  {
   "cell_type": "markdown",
   "metadata": {
    "colab_type": "text",
    "id": "sWhWdHIr4x7O"
   },
   "source": [
    "### Suplementando la información\n",
    "\n",
    "En el set de datos, tenemos una columna ```Position``` que indica la posición en la que el jugador se desempeña en el campo. Algo que podrás notar, es que originalmente la posición está de manera abreviada, si no conoces las abreviaturas, será complicado saber en qué posición juega cada jugador. \n",
    "\n",
    "\n",
    "Para solucionar esto, usémos otro set de datos para cambiar de abreviatura a algo más descriptivo, pero manteniendo la abreviatura.\n",
    "\n",
    "La siguiente imágen muestra las posiciónes más comunes en el campo:\n",
    "![Posiciones de juego](https://raw.githubusercontent.com/MauricioRR-Tec/Machine-Learning/master/Notebooks/images/SoccerFieldPositions.png)"
   ]
  },
  {
   "cell_type": "markdown",
   "metadata": {
    "colab_type": "text",
    "id": "juf6Sw6i64es"
   },
   "source": [
    "Vamos a utilizar un nuevo set de datos que contiene la abreviatura de cada posición (```Abbreviation```) y su significado (```Full```).\n",
    "\n",
    "Cargemos el archivo desde github a colab con la siguiente celda:"
   ]
  },
  {
   "cell_type": "code",
   "execution_count": 70,
   "metadata": {
    "colab": {},
    "colab_type": "code",
    "id": "EpicEmIrAl7M"
   },
   "outputs": [
    {
     "name": "stdout",
     "output_type": "stream",
     "text": [
      "Abbreviation, Full\n"
     ]
    },
    {
     "name": "stderr",
     "output_type": "stream",
     "text": [
      "  % Total    % Received % Xferd  Average Speed   Time    Time     Time  Current\n",
      "                                 Dload  Upload   Total   Spent    Left  Speed\n",
      "\n",
      "  0     0    0     0    0     0      0      0 --:--:-- --:--:-- --:--:--     0\n",
      "  0     0    0     0    0     0      0      0 --:--:--  0:00:01 --:--:--     0"
     ]
    },
    {
     "name": "stdout",
     "output_type": "stream",
     "text": [
      "GK, Goalkeeper\n",
      "SW, Sweeper\n",
      "CB, Center Back\n",
      "LCB, Left Center Back\n",
      "RCB, Right Center Back\n",
      "FB, Full Back\n",
      "LB, Left Back\n",
      "RB, Right Back\n",
      "WB, Wing Back\n",
      "RWB, Right Wing Back\n",
      "LWB, Left Wing Back\n",
      "DM, Defensive Midfielder\n",
      "LDM, Left Defensive Midfielder\n",
      "RDM, Right Defensive Midfielder\n",
      "CM, Central Midfield\n",
      "CAM, Central Attacking Midfielder\n",
      "CDM, Central Defensive Midfielder\n",
      "LCM, Left Center Midfield\n",
      "RCM, Right Center Midfield\n",
      "WM, Wing Midfielder\n",
      "LM, Left Midfielder\n",
      "RM, Right Midfielder\n",
      "AM, Attacking Midfielder\n",
      "LAM, Left Attacking Midfielder\n",
      "RAM, Right Attacking Midfielder\n",
      "WF, Wing Forward\n",
      "LWF, Left Wing Forward\n",
      "RWF, Right Wing Forward\n",
      "LF, Left Forward\n",
      "RF, Right Forward\n",
      "CF, Center Forward\n",
      "LW, Left Wing\n",
      "RW, Right Wing\n",
      "LS, Left Side\n",
      "RS, Right Side\n",
      "ST, Striker\n"
     ]
    },
    {
     "name": "stderr",
     "output_type": "stream",
     "text": [
      "\n",
      "  0     0    0     0    0     0      0      0 --:--:--  0:00:02 --:--:--     0curl: (6) Could not resolve host: application\n",
      "  % Total    % Received % Xferd  Average Speed   Time    Time     Time  Current\n",
      "                                 Dload  Upload   Total   Spent    Left  Speed\n",
      "\n",
      "  0     0    0     0    0     0      0      0 --:--:-- --:--:-- --:--:--     0\n",
      "100   772  100   772    0     0   2643      0 --:--:-- --:--:-- --:--:--  2652\n"
     ]
    }
   ],
   "source": [
    "# Fetch the dataset using the raw GitHub URL.\n",
    "!curl --remote-name \\\n",
    "     -H 'Accept: application/vnd.github.v3.raw' \\\n",
    "     --location https://raw.githubusercontent.com/MauricioRR-Tec/Machine-Learning/master/Notebooks/data/positions.csv"
   ]
  },
  {
   "cell_type": "markdown",
   "metadata": {
    "colab_type": "text",
    "id": "_8WhqOUzBxI0"
   },
   "source": [
    "Ejecuta la siguiente celda para crear y ver el nuevo dataframe con los datos de las posiciones:"
   ]
  },
  {
   "cell_type": "code",
   "execution_count": 421,
   "metadata": {
    "colab": {},
    "colab_type": "code",
    "id": "fEuD-qyI4yWj"
   },
   "outputs": [
    {
     "data": {
      "text/html": [
       "<div>\n",
       "<style scoped>\n",
       "    .dataframe tbody tr th:only-of-type {\n",
       "        vertical-align: middle;\n",
       "    }\n",
       "\n",
       "    .dataframe tbody tr th {\n",
       "        vertical-align: top;\n",
       "    }\n",
       "\n",
       "    .dataframe thead th {\n",
       "        text-align: right;\n",
       "    }\n",
       "</style>\n",
       "<table border=\"1\" class=\"dataframe\">\n",
       "  <thead>\n",
       "    <tr style=\"text-align: right;\">\n",
       "      <th></th>\n",
       "      <th>Abbreviation</th>\n",
       "      <th>Full</th>\n",
       "    </tr>\n",
       "  </thead>\n",
       "  <tbody>\n",
       "    <tr>\n",
       "      <th>0</th>\n",
       "      <td>GK</td>\n",
       "      <td>Goalkeeper</td>\n",
       "    </tr>\n",
       "    <tr>\n",
       "      <th>1</th>\n",
       "      <td>SW</td>\n",
       "      <td>Sweeper</td>\n",
       "    </tr>\n",
       "    <tr>\n",
       "      <th>2</th>\n",
       "      <td>CB</td>\n",
       "      <td>Center Back</td>\n",
       "    </tr>\n",
       "    <tr>\n",
       "      <th>3</th>\n",
       "      <td>LCB</td>\n",
       "      <td>Left Center Back</td>\n",
       "    </tr>\n",
       "    <tr>\n",
       "      <th>4</th>\n",
       "      <td>RCB</td>\n",
       "      <td>Right Center Back</td>\n",
       "    </tr>\n",
       "  </tbody>\n",
       "</table>\n",
       "</div>"
      ],
      "text/plain": [
       "  Abbreviation               Full\n",
       "0           GK         Goalkeeper\n",
       "1           SW            Sweeper\n",
       "2           CB        Center Back\n",
       "3          LCB   Left Center Back\n",
       "4          RCB  Right Center Back"
      ]
     },
     "execution_count": 421,
     "metadata": {},
     "output_type": "execute_result"
    }
   ],
   "source": [
    "positions_df = pd.read_csv(\"positions.csv\", header=0, skipinitialspace=True)\n",
    "positions_df.head()"
   ]
  },
  {
   "cell_type": "markdown",
   "metadata": {
    "colab_type": "text",
    "id": "ZC62QetW7Ier"
   },
   "source": [
    "Utiliza el nuevo dataframe para actualizar la columna ```Position``` en el dataframe de jugadores por la posición descriptiva + abreviada.\n",
    "\n",
    "Primero, debemos de *unir* ambos dataframes, ambos comparten una columna (pero tienen diferentes nombre) la posición abreviada.\n",
    "\n",
    "Utiliza un método de pandas para unir el dataframe ```fifa_df``` con ```positions_df```.\n",
    "\n",
    "*Tip: Queremos unir los datos de la **izquierda** con una sola fila de los de la derecha.*"
   ]
  },
  {
   "cell_type": "code",
   "execution_count": 422,
   "metadata": {
    "colab": {},
    "colab_type": "code",
    "id": "1UsLj_dY7UUG"
   },
   "outputs": [],
   "source": [
    "merged_df = fifa_df.merge(positions_df, left_on=\"Position\", right_on=\"Abbreviation\", how=\"left\")"
   ]
  },
  {
   "cell_type": "code",
   "execution_count": 423,
   "metadata": {
    "colab": {},
    "colab_type": "code",
    "id": "andWs45D6jV5"
   },
   "outputs": [
    {
     "data": {
      "text/html": [
       "<div>\n",
       "<style scoped>\n",
       "    .dataframe tbody tr th:only-of-type {\n",
       "        vertical-align: middle;\n",
       "    }\n",
       "\n",
       "    .dataframe tbody tr th {\n",
       "        vertical-align: top;\n",
       "    }\n",
       "\n",
       "    .dataframe thead th {\n",
       "        text-align: right;\n",
       "    }\n",
       "</style>\n",
       "<table border=\"1\" class=\"dataframe\">\n",
       "  <thead>\n",
       "    <tr style=\"text-align: right;\">\n",
       "      <th></th>\n",
       "      <th>ID</th>\n",
       "      <th>Name</th>\n",
       "      <th>Nationality</th>\n",
       "      <th>Club</th>\n",
       "      <th>Jersey Number</th>\n",
       "      <th>Value</th>\n",
       "      <th>Wage</th>\n",
       "      <th>Age</th>\n",
       "      <th>Height</th>\n",
       "      <th>Weight</th>\n",
       "      <th>...</th>\n",
       "      <th>Potential</th>\n",
       "      <th>Shooting</th>\n",
       "      <th>Defense</th>\n",
       "      <th>Passing</th>\n",
       "      <th>Physical</th>\n",
       "      <th>Control</th>\n",
       "      <th>Mental</th>\n",
       "      <th>GoalKeeping</th>\n",
       "      <th>Abbreviation</th>\n",
       "      <th>Full</th>\n",
       "    </tr>\n",
       "  </thead>\n",
       "  <tbody>\n",
       "    <tr>\n",
       "      <th>0</th>\n",
       "      <td>158023</td>\n",
       "      <td>L. Messi</td>\n",
       "      <td>Argentina</td>\n",
       "      <td>FC Barcelona</td>\n",
       "      <td>10.0</td>\n",
       "      <td>110500000.0</td>\n",
       "      <td>565000.0</td>\n",
       "      <td>31</td>\n",
       "      <td>5'7</td>\n",
       "      <td>159lbs</td>\n",
       "      <td>...</td>\n",
       "      <td>94</td>\n",
       "      <td>86.0</td>\n",
       "      <td>41.0</td>\n",
       "      <td>87.0</td>\n",
       "      <td>80.0</td>\n",
       "      <td>96.0</td>\n",
       "      <td>95.0</td>\n",
       "      <td>11.0</td>\n",
       "      <td>RF</td>\n",
       "      <td>Right Forward</td>\n",
       "    </tr>\n",
       "    <tr>\n",
       "      <th>1</th>\n",
       "      <td>20801</td>\n",
       "      <td>Cristiano Ronaldo</td>\n",
       "      <td>Portugal</td>\n",
       "      <td>Juventus</td>\n",
       "      <td>7.0</td>\n",
       "      <td>77000000.0</td>\n",
       "      <td>405000.0</td>\n",
       "      <td>33</td>\n",
       "      <td>6'2</td>\n",
       "      <td>183lbs</td>\n",
       "      <td>...</td>\n",
       "      <td>94</td>\n",
       "      <td>88.0</td>\n",
       "      <td>41.0</td>\n",
       "      <td>81.0</td>\n",
       "      <td>86.0</td>\n",
       "      <td>84.0</td>\n",
       "      <td>91.0</td>\n",
       "      <td>12.0</td>\n",
       "      <td>ST</td>\n",
       "      <td>Striker</td>\n",
       "    </tr>\n",
       "    <tr>\n",
       "      <th>2</th>\n",
       "      <td>190871</td>\n",
       "      <td>Neymar Jr</td>\n",
       "      <td>Brazil</td>\n",
       "      <td>Paris Saint-Germain</td>\n",
       "      <td>10.0</td>\n",
       "      <td>118500000.0</td>\n",
       "      <td>290000.0</td>\n",
       "      <td>26</td>\n",
       "      <td>5'9</td>\n",
       "      <td>150lbs</td>\n",
       "      <td>...</td>\n",
       "      <td>93</td>\n",
       "      <td>81.0</td>\n",
       "      <td>42.0</td>\n",
       "      <td>80.0</td>\n",
       "      <td>79.0</td>\n",
       "      <td>92.0</td>\n",
       "      <td>92.0</td>\n",
       "      <td>12.0</td>\n",
       "      <td>LW</td>\n",
       "      <td>Left Wing</td>\n",
       "    </tr>\n",
       "    <tr>\n",
       "      <th>3</th>\n",
       "      <td>193080</td>\n",
       "      <td>De Gea</td>\n",
       "      <td>Spain</td>\n",
       "      <td>Manchester United</td>\n",
       "      <td>1.0</td>\n",
       "      <td>72000000.0</td>\n",
       "      <td>260000.0</td>\n",
       "      <td>27</td>\n",
       "      <td>6'4</td>\n",
       "      <td>168lbs</td>\n",
       "      <td>...</td>\n",
       "      <td>93</td>\n",
       "      <td>21.0</td>\n",
       "      <td>18.0</td>\n",
       "      <td>39.0</td>\n",
       "      <td>56.0</td>\n",
       "      <td>34.0</td>\n",
       "      <td>75.0</td>\n",
       "      <td>89.0</td>\n",
       "      <td>GK</td>\n",
       "      <td>Goalkeeper</td>\n",
       "    </tr>\n",
       "    <tr>\n",
       "      <th>4</th>\n",
       "      <td>192985</td>\n",
       "      <td>K. De Bruyne</td>\n",
       "      <td>Belgium</td>\n",
       "      <td>Manchester City</td>\n",
       "      <td>7.0</td>\n",
       "      <td>102000000.0</td>\n",
       "      <td>355000.0</td>\n",
       "      <td>27</td>\n",
       "      <td>5'11</td>\n",
       "      <td>154lbs</td>\n",
       "      <td>...</td>\n",
       "      <td>92</td>\n",
       "      <td>81.0</td>\n",
       "      <td>65.0</td>\n",
       "      <td>92.0</td>\n",
       "      <td>77.0</td>\n",
       "      <td>85.0</td>\n",
       "      <td>91.0</td>\n",
       "      <td>11.0</td>\n",
       "      <td>RCM</td>\n",
       "      <td>Right Center Midfield</td>\n",
       "    </tr>\n",
       "  </tbody>\n",
       "</table>\n",
       "<p>5 rows × 23 columns</p>\n",
       "</div>"
      ],
      "text/plain": [
       "       ID               Name Nationality                 Club  Jersey Number  \\\n",
       "0  158023           L. Messi   Argentina         FC Barcelona           10.0   \n",
       "1   20801  Cristiano Ronaldo    Portugal             Juventus            7.0   \n",
       "2  190871          Neymar Jr      Brazil  Paris Saint-Germain           10.0   \n",
       "3  193080             De Gea       Spain    Manchester United            1.0   \n",
       "4  192985       K. De Bruyne     Belgium      Manchester City            7.0   \n",
       "\n",
       "         Value      Wage  Age Height  Weight  ... Potential Shooting  Defense  \\\n",
       "0  110500000.0  565000.0   31    5'7  159lbs  ...        94     86.0     41.0   \n",
       "1   77000000.0  405000.0   33    6'2  183lbs  ...        94     88.0     41.0   \n",
       "2  118500000.0  290000.0   26    5'9  150lbs  ...        93     81.0     42.0   \n",
       "3   72000000.0  260000.0   27    6'4  168lbs  ...        93     21.0     18.0   \n",
       "4  102000000.0  355000.0   27   5'11  154lbs  ...        92     81.0     65.0   \n",
       "\n",
       "   Passing  Physical  Control  Mental  GoalKeeping  Abbreviation  \\\n",
       "0     87.0      80.0     96.0    95.0         11.0            RF   \n",
       "1     81.0      86.0     84.0    91.0         12.0            ST   \n",
       "2     80.0      79.0     92.0    92.0         12.0            LW   \n",
       "3     39.0      56.0     34.0    75.0         89.0            GK   \n",
       "4     92.0      77.0     85.0    91.0         11.0           RCM   \n",
       "\n",
       "                    Full  \n",
       "0          Right Forward  \n",
       "1                Striker  \n",
       "2              Left Wing  \n",
       "3             Goalkeeper  \n",
       "4  Right Center Midfield  \n",
       "\n",
       "[5 rows x 23 columns]"
      ]
     },
     "execution_count": 423,
     "metadata": {},
     "output_type": "execute_result"
    }
   ],
   "source": [
    "merged_df.head()"
   ]
  },
  {
   "cell_type": "code",
   "execution_count": 424,
   "metadata": {
    "colab": {},
    "colab_type": "code",
    "id": "AGYWwD_9C_17"
   },
   "outputs": [
    {
     "name": "stdout",
     "output_type": "stream",
     "text": [
      "La union de ambos dataframes contiene  23  columnas\n"
     ]
    }
   ],
   "source": [
    "assert len(merged_df.columns) == 23, \"Error\"\n",
    "print(\"La union de ambos dataframes contiene \", len(merged_df.columns), \" columnas\")"
   ]
  },
  {
   "cell_type": "markdown",
   "metadata": {
    "colab_type": "text",
    "id": "WEZT4Via5wL_"
   },
   "source": [
    "Usemos la nueva columna ```Full``` para actualizar la columna ```Position``` para que contenga el significado y abreviatura de la posición:\n",
    "\n",
    "```merged_df[\"Full\"] + \" (\" + merged_df[\"Position\"] +\")\"```"
   ]
  },
  {
   "cell_type": "code",
   "execution_count": 425,
   "metadata": {
    "colab": {},
    "colab_type": "code",
    "id": "KVKr0Zry5wcb"
   },
   "outputs": [],
   "source": [
    "merged_df[\"Position\"] = merged_df[\"Full\"] + \" (\" + merged_df[\"Position\"] +\")\""
   ]
  },
  {
   "cell_type": "markdown",
   "metadata": {
    "colab_type": "text",
    "id": "QXnqnZK6GL9k"
   },
   "source": [
    "Muestra la columna actualizada:"
   ]
  },
  {
   "cell_type": "code",
   "execution_count": 426,
   "metadata": {
    "colab": {},
    "colab_type": "code",
    "id": "MpKl_59uGLcI"
   },
   "outputs": [
    {
     "data": {
      "text/plain": [
       "0    Right Forward (RF)\n",
       "1          Striker (ST)\n",
       "2        Left Wing (LW)\n",
       "Name: Position, dtype: object"
      ]
     },
     "execution_count": 426,
     "metadata": {},
     "output_type": "execute_result"
    }
   ],
   "source": [
    "merged_df[\"Position\"].head(3)"
   ]
  },
  {
   "cell_type": "markdown",
   "metadata": {
    "colab_type": "text",
    "id": "xmeIYYIa5nq5"
   },
   "source": [
    "Ahora, tenemos algunas columnas adicionales que ya no son útiles.\n",
    "\n",
    "Eliminemos las columnas ```Abbreviation``` y ```Full``` del dataframe usando ```drop()```:"
   ]
  },
  {
   "cell_type": "code",
   "execution_count": 427,
   "metadata": {
    "colab": {},
    "colab_type": "code",
    "id": "_pAUfr7M5oU-"
   },
   "outputs": [],
   "source": [
    "merged_df = merged_df.drop([\"Abbreviation\", \"Full\"], axis=1)"
   ]
  },
  {
   "cell_type": "code",
   "execution_count": 280,
   "metadata": {
    "colab": {},
    "colab_type": "code",
    "id": "K4Qqvacs68Ri"
   },
   "outputs": [
    {
     "data": {
      "text/html": [
       "<div>\n",
       "<style scoped>\n",
       "    .dataframe tbody tr th:only-of-type {\n",
       "        vertical-align: middle;\n",
       "    }\n",
       "\n",
       "    .dataframe tbody tr th {\n",
       "        vertical-align: top;\n",
       "    }\n",
       "\n",
       "    .dataframe thead th {\n",
       "        text-align: right;\n",
       "    }\n",
       "</style>\n",
       "<table border=\"1\" class=\"dataframe\">\n",
       "  <thead>\n",
       "    <tr style=\"text-align: right;\">\n",
       "      <th></th>\n",
       "      <th>ID</th>\n",
       "      <th>Name</th>\n",
       "      <th>Nationality</th>\n",
       "      <th>Club</th>\n",
       "      <th>Jersey Number</th>\n",
       "      <th>Value</th>\n",
       "      <th>Wage</th>\n",
       "      <th>Age</th>\n",
       "      <th>Height</th>\n",
       "      <th>Weight</th>\n",
       "      <th>...</th>\n",
       "      <th>Position</th>\n",
       "      <th>Overall</th>\n",
       "      <th>Potential</th>\n",
       "      <th>Shooting</th>\n",
       "      <th>Defense</th>\n",
       "      <th>Passing</th>\n",
       "      <th>Physical</th>\n",
       "      <th>Control</th>\n",
       "      <th>Mental</th>\n",
       "      <th>GoalKeeping</th>\n",
       "    </tr>\n",
       "  </thead>\n",
       "  <tbody>\n",
       "    <tr>\n",
       "      <th>0</th>\n",
       "      <td>158023</td>\n",
       "      <td>L. Messi</td>\n",
       "      <td>Argentina</td>\n",
       "      <td>FC Barcelona</td>\n",
       "      <td>10.0</td>\n",
       "      <td>110500000.0</td>\n",
       "      <td>565000.0</td>\n",
       "      <td>31</td>\n",
       "      <td>5'7</td>\n",
       "      <td>159lbs</td>\n",
       "      <td>...</td>\n",
       "      <td>Right Forward (RF)</td>\n",
       "      <td>94</td>\n",
       "      <td>94</td>\n",
       "      <td>86.0</td>\n",
       "      <td>41.0</td>\n",
       "      <td>87.0</td>\n",
       "      <td>80.0</td>\n",
       "      <td>96.0</td>\n",
       "      <td>95.0</td>\n",
       "      <td>11.0</td>\n",
       "    </tr>\n",
       "    <tr>\n",
       "      <th>1</th>\n",
       "      <td>20801</td>\n",
       "      <td>Cristiano Ronaldo</td>\n",
       "      <td>Portugal</td>\n",
       "      <td>Juventus</td>\n",
       "      <td>7.0</td>\n",
       "      <td>77000000.0</td>\n",
       "      <td>405000.0</td>\n",
       "      <td>33</td>\n",
       "      <td>6'2</td>\n",
       "      <td>183lbs</td>\n",
       "      <td>...</td>\n",
       "      <td>Striker (ST)</td>\n",
       "      <td>94</td>\n",
       "      <td>94</td>\n",
       "      <td>88.0</td>\n",
       "      <td>41.0</td>\n",
       "      <td>81.0</td>\n",
       "      <td>86.0</td>\n",
       "      <td>84.0</td>\n",
       "      <td>91.0</td>\n",
       "      <td>12.0</td>\n",
       "    </tr>\n",
       "    <tr>\n",
       "      <th>2</th>\n",
       "      <td>190871</td>\n",
       "      <td>Neymar Jr</td>\n",
       "      <td>Brazil</td>\n",
       "      <td>Paris Saint-Germain</td>\n",
       "      <td>10.0</td>\n",
       "      <td>118500000.0</td>\n",
       "      <td>290000.0</td>\n",
       "      <td>26</td>\n",
       "      <td>5'9</td>\n",
       "      <td>150lbs</td>\n",
       "      <td>...</td>\n",
       "      <td>Left Wing (LW)</td>\n",
       "      <td>92</td>\n",
       "      <td>93</td>\n",
       "      <td>81.0</td>\n",
       "      <td>42.0</td>\n",
       "      <td>80.0</td>\n",
       "      <td>79.0</td>\n",
       "      <td>92.0</td>\n",
       "      <td>92.0</td>\n",
       "      <td>12.0</td>\n",
       "    </tr>\n",
       "  </tbody>\n",
       "</table>\n",
       "<p>3 rows × 21 columns</p>\n",
       "</div>"
      ],
      "text/plain": [
       "       ID               Name Nationality                 Club  Jersey Number  \\\n",
       "0  158023           L. Messi   Argentina         FC Barcelona           10.0   \n",
       "1   20801  Cristiano Ronaldo    Portugal             Juventus            7.0   \n",
       "2  190871          Neymar Jr      Brazil  Paris Saint-Germain           10.0   \n",
       "\n",
       "         Value      Wage  Age Height  Weight  ...            Position Overall  \\\n",
       "0  110500000.0  565000.0   31    5'7  159lbs  ...  Right Forward (RF)      94   \n",
       "1   77000000.0  405000.0   33    6'2  183lbs  ...        Striker (ST)      94   \n",
       "2  118500000.0  290000.0   26    5'9  150lbs  ...      Left Wing (LW)      92   \n",
       "\n",
       "   Potential  Shooting  Defense  Passing  Physical  Control  Mental  \\\n",
       "0         94      86.0     41.0     87.0      80.0     96.0    95.0   \n",
       "1         94      88.0     41.0     81.0      86.0     84.0    91.0   \n",
       "2         93      81.0     42.0     80.0      79.0     92.0    92.0   \n",
       "\n",
       "   GoalKeeping  \n",
       "0         11.0  \n",
       "1         12.0  \n",
       "2         12.0  \n",
       "\n",
       "[3 rows x 21 columns]"
      ]
     },
     "execution_count": 280,
     "metadata": {},
     "output_type": "execute_result"
    }
   ],
   "source": [
    "merged_df.head(3)"
   ]
  },
  {
   "cell_type": "code",
   "execution_count": 428,
   "metadata": {
    "colab": {},
    "colab_type": "code",
    "id": "YII9iv1PG3Ux"
   },
   "outputs": [],
   "source": [
    "assert len(merged_df.columns) == 21, \"Error\""
   ]
  },
  {
   "cell_type": "markdown",
   "metadata": {
    "colab_type": "text",
    "id": "zAUeeSXvxU6g"
   },
   "source": [
    "Asignemos al dataframe original ```fifa_df``` el nuevo dataframe con el tratamiento de datos ya realizado:"
   ]
  },
  {
   "cell_type": "code",
   "execution_count": 283,
   "metadata": {
    "colab": {},
    "colab_type": "code",
    "id": "mFz5iU9SxScb"
   },
   "outputs": [
    {
     "data": {
      "text/html": [
       "<div>\n",
       "<style scoped>\n",
       "    .dataframe tbody tr th:only-of-type {\n",
       "        vertical-align: middle;\n",
       "    }\n",
       "\n",
       "    .dataframe tbody tr th {\n",
       "        vertical-align: top;\n",
       "    }\n",
       "\n",
       "    .dataframe thead th {\n",
       "        text-align: right;\n",
       "    }\n",
       "</style>\n",
       "<table border=\"1\" class=\"dataframe\">\n",
       "  <thead>\n",
       "    <tr style=\"text-align: right;\">\n",
       "      <th></th>\n",
       "      <th>ID</th>\n",
       "      <th>Name</th>\n",
       "      <th>Nationality</th>\n",
       "      <th>Club</th>\n",
       "      <th>Jersey Number</th>\n",
       "      <th>Value</th>\n",
       "      <th>Wage</th>\n",
       "      <th>Age</th>\n",
       "      <th>Height</th>\n",
       "      <th>Weight</th>\n",
       "      <th>...</th>\n",
       "      <th>Position</th>\n",
       "      <th>Overall</th>\n",
       "      <th>Potential</th>\n",
       "      <th>Shooting</th>\n",
       "      <th>Defense</th>\n",
       "      <th>Passing</th>\n",
       "      <th>Physical</th>\n",
       "      <th>Control</th>\n",
       "      <th>Mental</th>\n",
       "      <th>GoalKeeping</th>\n",
       "    </tr>\n",
       "  </thead>\n",
       "  <tbody>\n",
       "    <tr>\n",
       "      <th>0</th>\n",
       "      <td>158023</td>\n",
       "      <td>L. Messi</td>\n",
       "      <td>Argentina</td>\n",
       "      <td>FC Barcelona</td>\n",
       "      <td>10.0</td>\n",
       "      <td>110500000.0</td>\n",
       "      <td>565000.0</td>\n",
       "      <td>31</td>\n",
       "      <td>5'7</td>\n",
       "      <td>159lbs</td>\n",
       "      <td>...</td>\n",
       "      <td>Right Forward (RF)</td>\n",
       "      <td>94</td>\n",
       "      <td>94</td>\n",
       "      <td>86.0</td>\n",
       "      <td>41.0</td>\n",
       "      <td>87.0</td>\n",
       "      <td>80.0</td>\n",
       "      <td>96.0</td>\n",
       "      <td>95.0</td>\n",
       "      <td>11.0</td>\n",
       "    </tr>\n",
       "    <tr>\n",
       "      <th>1</th>\n",
       "      <td>20801</td>\n",
       "      <td>Cristiano Ronaldo</td>\n",
       "      <td>Portugal</td>\n",
       "      <td>Juventus</td>\n",
       "      <td>7.0</td>\n",
       "      <td>77000000.0</td>\n",
       "      <td>405000.0</td>\n",
       "      <td>33</td>\n",
       "      <td>6'2</td>\n",
       "      <td>183lbs</td>\n",
       "      <td>...</td>\n",
       "      <td>Striker (ST)</td>\n",
       "      <td>94</td>\n",
       "      <td>94</td>\n",
       "      <td>88.0</td>\n",
       "      <td>41.0</td>\n",
       "      <td>81.0</td>\n",
       "      <td>86.0</td>\n",
       "      <td>84.0</td>\n",
       "      <td>91.0</td>\n",
       "      <td>12.0</td>\n",
       "    </tr>\n",
       "    <tr>\n",
       "      <th>2</th>\n",
       "      <td>190871</td>\n",
       "      <td>Neymar Jr</td>\n",
       "      <td>Brazil</td>\n",
       "      <td>Paris Saint-Germain</td>\n",
       "      <td>10.0</td>\n",
       "      <td>118500000.0</td>\n",
       "      <td>290000.0</td>\n",
       "      <td>26</td>\n",
       "      <td>5'9</td>\n",
       "      <td>150lbs</td>\n",
       "      <td>...</td>\n",
       "      <td>Left Wing (LW)</td>\n",
       "      <td>92</td>\n",
       "      <td>93</td>\n",
       "      <td>81.0</td>\n",
       "      <td>42.0</td>\n",
       "      <td>80.0</td>\n",
       "      <td>79.0</td>\n",
       "      <td>92.0</td>\n",
       "      <td>92.0</td>\n",
       "      <td>12.0</td>\n",
       "    </tr>\n",
       "    <tr>\n",
       "      <th>3</th>\n",
       "      <td>193080</td>\n",
       "      <td>De Gea</td>\n",
       "      <td>Spain</td>\n",
       "      <td>Manchester United</td>\n",
       "      <td>1.0</td>\n",
       "      <td>72000000.0</td>\n",
       "      <td>260000.0</td>\n",
       "      <td>27</td>\n",
       "      <td>6'4</td>\n",
       "      <td>168lbs</td>\n",
       "      <td>...</td>\n",
       "      <td>Goalkeeper (GK)</td>\n",
       "      <td>91</td>\n",
       "      <td>93</td>\n",
       "      <td>21.0</td>\n",
       "      <td>18.0</td>\n",
       "      <td>39.0</td>\n",
       "      <td>56.0</td>\n",
       "      <td>34.0</td>\n",
       "      <td>75.0</td>\n",
       "      <td>89.0</td>\n",
       "    </tr>\n",
       "    <tr>\n",
       "      <th>4</th>\n",
       "      <td>192985</td>\n",
       "      <td>K. De Bruyne</td>\n",
       "      <td>Belgium</td>\n",
       "      <td>Manchester City</td>\n",
       "      <td>7.0</td>\n",
       "      <td>102000000.0</td>\n",
       "      <td>355000.0</td>\n",
       "      <td>27</td>\n",
       "      <td>5'11</td>\n",
       "      <td>154lbs</td>\n",
       "      <td>...</td>\n",
       "      <td>Right Center Midfield (RCM)</td>\n",
       "      <td>91</td>\n",
       "      <td>92</td>\n",
       "      <td>81.0</td>\n",
       "      <td>65.0</td>\n",
       "      <td>92.0</td>\n",
       "      <td>77.0</td>\n",
       "      <td>85.0</td>\n",
       "      <td>91.0</td>\n",
       "      <td>11.0</td>\n",
       "    </tr>\n",
       "  </tbody>\n",
       "</table>\n",
       "<p>5 rows × 21 columns</p>\n",
       "</div>"
      ],
      "text/plain": [
       "       ID               Name Nationality                 Club  Jersey Number  \\\n",
       "0  158023           L. Messi   Argentina         FC Barcelona           10.0   \n",
       "1   20801  Cristiano Ronaldo    Portugal             Juventus            7.0   \n",
       "2  190871          Neymar Jr      Brazil  Paris Saint-Germain           10.0   \n",
       "3  193080             De Gea       Spain    Manchester United            1.0   \n",
       "4  192985       K. De Bruyne     Belgium      Manchester City            7.0   \n",
       "\n",
       "         Value      Wage  Age Height  Weight  ...  \\\n",
       "0  110500000.0  565000.0   31    5'7  159lbs  ...   \n",
       "1   77000000.0  405000.0   33    6'2  183lbs  ...   \n",
       "2  118500000.0  290000.0   26    5'9  150lbs  ...   \n",
       "3   72000000.0  260000.0   27    6'4  168lbs  ...   \n",
       "4  102000000.0  355000.0   27   5'11  154lbs  ...   \n",
       "\n",
       "                      Position Overall  Potential  Shooting  Defense  Passing  \\\n",
       "0           Right Forward (RF)      94         94      86.0     41.0     87.0   \n",
       "1                 Striker (ST)      94         94      88.0     41.0     81.0   \n",
       "2               Left Wing (LW)      92         93      81.0     42.0     80.0   \n",
       "3              Goalkeeper (GK)      91         93      21.0     18.0     39.0   \n",
       "4  Right Center Midfield (RCM)      91         92      81.0     65.0     92.0   \n",
       "\n",
       "   Physical  Control  Mental  GoalKeeping  \n",
       "0      80.0     96.0    95.0         11.0  \n",
       "1      86.0     84.0    91.0         12.0  \n",
       "2      79.0     92.0    92.0         12.0  \n",
       "3      56.0     34.0    75.0         89.0  \n",
       "4      77.0     85.0    91.0         11.0  \n",
       "\n",
       "[5 rows x 21 columns]"
      ]
     },
     "execution_count": 283,
     "metadata": {},
     "output_type": "execute_result"
    }
   ],
   "source": [
    "fifa_df = merged_df\n",
    "fifa_df.head()"
   ]
  },
  {
   "cell_type": "markdown",
   "metadata": {
    "colab_type": "text",
    "id": "11welP4cjgmM"
   },
   "source": [
    "## Análisis exploratorio\n",
    "\n",
    "En esta sección, utilizarás distintos métodos de los dataframes de pandas para generar un análisis exploratorio. En un análisis exploratorio, se busca explorar, resumir y entender los datos."
   ]
  },
  {
   "cell_type": "markdown",
   "metadata": {
    "colab_type": "text",
    "id": "KDx_7ASLlnL7"
   },
   "source": [
    "### Jugadores con el mayor valor comercial y jugadores mejores pagados"
   ]
  },
  {
   "cell_type": "markdown",
   "metadata": {
    "colab_type": "text",
    "id": "Ms3vFmAo15eW"
   },
   "source": [
    "Muestra el **Top 3** de jugadores con mayor valor (```Value```) en el mercado."
   ]
  },
  {
   "cell_type": "code",
   "execution_count": 429,
   "metadata": {
    "colab": {},
    "colab_type": "code",
    "id": "XJAgwUc2J9y8"
   },
   "outputs": [
    {
     "data": {
      "text/html": [
       "<div>\n",
       "<style scoped>\n",
       "    .dataframe tbody tr th:only-of-type {\n",
       "        vertical-align: middle;\n",
       "    }\n",
       "\n",
       "    .dataframe tbody tr th {\n",
       "        vertical-align: top;\n",
       "    }\n",
       "\n",
       "    .dataframe thead th {\n",
       "        text-align: right;\n",
       "    }\n",
       "</style>\n",
       "<table border=\"1\" class=\"dataframe\">\n",
       "  <thead>\n",
       "    <tr style=\"text-align: right;\">\n",
       "      <th></th>\n",
       "      <th>ID</th>\n",
       "      <th>Name</th>\n",
       "      <th>Nationality</th>\n",
       "      <th>Club</th>\n",
       "      <th>Jersey Number</th>\n",
       "      <th>Value</th>\n",
       "      <th>Wage</th>\n",
       "      <th>Age</th>\n",
       "      <th>Height</th>\n",
       "      <th>Weight</th>\n",
       "      <th>...</th>\n",
       "      <th>Position</th>\n",
       "      <th>Overall</th>\n",
       "      <th>Potential</th>\n",
       "      <th>Shooting</th>\n",
       "      <th>Defense</th>\n",
       "      <th>Passing</th>\n",
       "      <th>Physical</th>\n",
       "      <th>Control</th>\n",
       "      <th>Mental</th>\n",
       "      <th>GoalKeeping</th>\n",
       "    </tr>\n",
       "  </thead>\n",
       "  <tbody>\n",
       "    <tr>\n",
       "      <th>2</th>\n",
       "      <td>190871</td>\n",
       "      <td>Neymar Jr</td>\n",
       "      <td>Brazil</td>\n",
       "      <td>Paris Saint-Germain</td>\n",
       "      <td>10.0</td>\n",
       "      <td>118500000.0</td>\n",
       "      <td>290000.0</td>\n",
       "      <td>26</td>\n",
       "      <td>5'9</td>\n",
       "      <td>150lbs</td>\n",
       "      <td>...</td>\n",
       "      <td>LW</td>\n",
       "      <td>92</td>\n",
       "      <td>93</td>\n",
       "      <td>81.0</td>\n",
       "      <td>42.0</td>\n",
       "      <td>80.0</td>\n",
       "      <td>79.0</td>\n",
       "      <td>92.0</td>\n",
       "      <td>92.0</td>\n",
       "      <td>12.0</td>\n",
       "    </tr>\n",
       "    <tr>\n",
       "      <th>0</th>\n",
       "      <td>158023</td>\n",
       "      <td>L. Messi</td>\n",
       "      <td>Argentina</td>\n",
       "      <td>FC Barcelona</td>\n",
       "      <td>10.0</td>\n",
       "      <td>110500000.0</td>\n",
       "      <td>565000.0</td>\n",
       "      <td>31</td>\n",
       "      <td>5'7</td>\n",
       "      <td>159lbs</td>\n",
       "      <td>...</td>\n",
       "      <td>RF</td>\n",
       "      <td>94</td>\n",
       "      <td>94</td>\n",
       "      <td>86.0</td>\n",
       "      <td>41.0</td>\n",
       "      <td>87.0</td>\n",
       "      <td>80.0</td>\n",
       "      <td>96.0</td>\n",
       "      <td>95.0</td>\n",
       "      <td>11.0</td>\n",
       "    </tr>\n",
       "    <tr>\n",
       "      <th>4</th>\n",
       "      <td>192985</td>\n",
       "      <td>K. De Bruyne</td>\n",
       "      <td>Belgium</td>\n",
       "      <td>Manchester City</td>\n",
       "      <td>7.0</td>\n",
       "      <td>102000000.0</td>\n",
       "      <td>355000.0</td>\n",
       "      <td>27</td>\n",
       "      <td>5'11</td>\n",
       "      <td>154lbs</td>\n",
       "      <td>...</td>\n",
       "      <td>RCM</td>\n",
       "      <td>91</td>\n",
       "      <td>92</td>\n",
       "      <td>81.0</td>\n",
       "      <td>65.0</td>\n",
       "      <td>92.0</td>\n",
       "      <td>77.0</td>\n",
       "      <td>85.0</td>\n",
       "      <td>91.0</td>\n",
       "      <td>11.0</td>\n",
       "    </tr>\n",
       "  </tbody>\n",
       "</table>\n",
       "<p>3 rows × 21 columns</p>\n",
       "</div>"
      ],
      "text/plain": [
       "       ID          Name Nationality                 Club  Jersey Number  \\\n",
       "2  190871     Neymar Jr      Brazil  Paris Saint-Germain           10.0   \n",
       "0  158023      L. Messi   Argentina         FC Barcelona           10.0   \n",
       "4  192985  K. De Bruyne     Belgium      Manchester City            7.0   \n",
       "\n",
       "         Value      Wage  Age Height  Weight  ... Position Overall  Potential  \\\n",
       "2  118500000.0  290000.0   26    5'9  150lbs  ...       LW      92         93   \n",
       "0  110500000.0  565000.0   31    5'7  159lbs  ...       RF      94         94   \n",
       "4  102000000.0  355000.0   27   5'11  154lbs  ...      RCM      91         92   \n",
       "\n",
       "   Shooting  Defense  Passing  Physical  Control  Mental  GoalKeeping  \n",
       "2      81.0     42.0     80.0      79.0     92.0    92.0         12.0  \n",
       "0      86.0     41.0     87.0      80.0     96.0    95.0         11.0  \n",
       "4      81.0     65.0     92.0      77.0     85.0    91.0         11.0  \n",
       "\n",
       "[3 rows x 21 columns]"
      ]
     },
     "execution_count": 429,
     "metadata": {},
     "output_type": "execute_result"
    }
   ],
   "source": [
    "fifa_df.sort_values(by=\"Value\", ascending=False).head(3)"
   ]
  },
  {
   "cell_type": "markdown",
   "metadata": {
    "colab_type": "text",
    "id": "BWtWBTdz1yix"
   },
   "source": [
    "Muestra el **Top 3** de jugadores mejores pagados en el mundo (Salarios más altos, ```Wage```)."
   ]
  },
  {
   "cell_type": "code",
   "execution_count": 430,
   "metadata": {
    "colab": {},
    "colab_type": "code",
    "id": "1yaixbRm1lgg"
   },
   "outputs": [
    {
     "data": {
      "text/html": [
       "<div>\n",
       "<style scoped>\n",
       "    .dataframe tbody tr th:only-of-type {\n",
       "        vertical-align: middle;\n",
       "    }\n",
       "\n",
       "    .dataframe tbody tr th {\n",
       "        vertical-align: top;\n",
       "    }\n",
       "\n",
       "    .dataframe thead th {\n",
       "        text-align: right;\n",
       "    }\n",
       "</style>\n",
       "<table border=\"1\" class=\"dataframe\">\n",
       "  <thead>\n",
       "    <tr style=\"text-align: right;\">\n",
       "      <th></th>\n",
       "      <th>ID</th>\n",
       "      <th>Name</th>\n",
       "      <th>Nationality</th>\n",
       "      <th>Club</th>\n",
       "      <th>Jersey Number</th>\n",
       "      <th>Value</th>\n",
       "      <th>Wage</th>\n",
       "      <th>Age</th>\n",
       "      <th>Height</th>\n",
       "      <th>Weight</th>\n",
       "      <th>...</th>\n",
       "      <th>Position</th>\n",
       "      <th>Overall</th>\n",
       "      <th>Potential</th>\n",
       "      <th>Shooting</th>\n",
       "      <th>Defense</th>\n",
       "      <th>Passing</th>\n",
       "      <th>Physical</th>\n",
       "      <th>Control</th>\n",
       "      <th>Mental</th>\n",
       "      <th>GoalKeeping</th>\n",
       "    </tr>\n",
       "  </thead>\n",
       "  <tbody>\n",
       "    <tr>\n",
       "      <th>0</th>\n",
       "      <td>158023</td>\n",
       "      <td>L. Messi</td>\n",
       "      <td>Argentina</td>\n",
       "      <td>FC Barcelona</td>\n",
       "      <td>10.0</td>\n",
       "      <td>110500000.0</td>\n",
       "      <td>565000.0</td>\n",
       "      <td>31</td>\n",
       "      <td>5'7</td>\n",
       "      <td>159lbs</td>\n",
       "      <td>...</td>\n",
       "      <td>RF</td>\n",
       "      <td>94</td>\n",
       "      <td>94</td>\n",
       "      <td>86.0</td>\n",
       "      <td>41.0</td>\n",
       "      <td>87.0</td>\n",
       "      <td>80.0</td>\n",
       "      <td>96.0</td>\n",
       "      <td>95.0</td>\n",
       "      <td>11.0</td>\n",
       "    </tr>\n",
       "    <tr>\n",
       "      <th>7</th>\n",
       "      <td>176580</td>\n",
       "      <td>L. Suárez</td>\n",
       "      <td>Uruguay</td>\n",
       "      <td>FC Barcelona</td>\n",
       "      <td>9.0</td>\n",
       "      <td>80000000.0</td>\n",
       "      <td>455000.0</td>\n",
       "      <td>31</td>\n",
       "      <td>6'0</td>\n",
       "      <td>190lbs</td>\n",
       "      <td>...</td>\n",
       "      <td>RS</td>\n",
       "      <td>91</td>\n",
       "      <td>91</td>\n",
       "      <td>86.0</td>\n",
       "      <td>56.0</td>\n",
       "      <td>74.0</td>\n",
       "      <td>81.0</td>\n",
       "      <td>87.0</td>\n",
       "      <td>87.0</td>\n",
       "      <td>31.0</td>\n",
       "    </tr>\n",
       "    <tr>\n",
       "      <th>6</th>\n",
       "      <td>177003</td>\n",
       "      <td>L. Modrić</td>\n",
       "      <td>Croatia</td>\n",
       "      <td>Real Madrid</td>\n",
       "      <td>10.0</td>\n",
       "      <td>67000000.0</td>\n",
       "      <td>420000.0</td>\n",
       "      <td>32</td>\n",
       "      <td>5'8</td>\n",
       "      <td>146lbs</td>\n",
       "      <td>...</td>\n",
       "      <td>RCM</td>\n",
       "      <td>91</td>\n",
       "      <td>91</td>\n",
       "      <td>76.0</td>\n",
       "      <td>74.0</td>\n",
       "      <td>89.0</td>\n",
       "      <td>79.0</td>\n",
       "      <td>92.0</td>\n",
       "      <td>89.0</td>\n",
       "      <td>10.0</td>\n",
       "    </tr>\n",
       "  </tbody>\n",
       "</table>\n",
       "<p>3 rows × 21 columns</p>\n",
       "</div>"
      ],
      "text/plain": [
       "       ID       Name Nationality          Club  Jersey Number        Value  \\\n",
       "0  158023   L. Messi   Argentina  FC Barcelona           10.0  110500000.0   \n",
       "7  176580  L. Suárez     Uruguay  FC Barcelona            9.0   80000000.0   \n",
       "6  177003  L. Modrić     Croatia   Real Madrid           10.0   67000000.0   \n",
       "\n",
       "       Wage  Age Height  Weight  ... Position Overall  Potential  Shooting  \\\n",
       "0  565000.0   31    5'7  159lbs  ...       RF      94         94      86.0   \n",
       "7  455000.0   31    6'0  190lbs  ...       RS      91         91      86.0   \n",
       "6  420000.0   32    5'8  146lbs  ...      RCM      91         91      76.0   \n",
       "\n",
       "   Defense  Passing  Physical  Control  Mental  GoalKeeping  \n",
       "0     41.0     87.0      80.0     96.0    95.0         11.0  \n",
       "7     56.0     74.0      81.0     87.0    87.0         31.0  \n",
       "6     74.0     89.0      79.0     92.0    89.0         10.0  \n",
       "\n",
       "[3 rows x 21 columns]"
      ]
     },
     "execution_count": 430,
     "metadata": {},
     "output_type": "execute_result"
    }
   ],
   "source": [
    "fifa_df.sort_values(by=\"Wage\", ascending=False).head(3)"
   ]
  },
  {
   "cell_type": "markdown",
   "metadata": {
    "colab_type": "text",
    "id": "cpSEn-FJjwtT"
   },
   "source": [
    "### Potencial por alcanzar\n",
    "\n",
    "Utiliza operaciones Crea una nueva columna que  muestre el potencial por alcanzar ```Potential left``` de cada jugador en el conjunto de datos. El potencial por alcanzar puede ser calculado mediante ```Potential - Overall```."
   ]
  },
  {
   "cell_type": "code",
   "execution_count": 431,
   "metadata": {
    "colab": {},
    "colab_type": "code",
    "id": "1fD4LDMJj14v"
   },
   "outputs": [
    {
     "data": {
      "text/html": [
       "<div>\n",
       "<style scoped>\n",
       "    .dataframe tbody tr th:only-of-type {\n",
       "        vertical-align: middle;\n",
       "    }\n",
       "\n",
       "    .dataframe tbody tr th {\n",
       "        vertical-align: top;\n",
       "    }\n",
       "\n",
       "    .dataframe thead th {\n",
       "        text-align: right;\n",
       "    }\n",
       "</style>\n",
       "<table border=\"1\" class=\"dataframe\">\n",
       "  <thead>\n",
       "    <tr style=\"text-align: right;\">\n",
       "      <th></th>\n",
       "      <th>ID</th>\n",
       "      <th>Name</th>\n",
       "      <th>Nationality</th>\n",
       "      <th>Club</th>\n",
       "      <th>Jersey Number</th>\n",
       "      <th>Value</th>\n",
       "      <th>Wage</th>\n",
       "      <th>Age</th>\n",
       "      <th>Height</th>\n",
       "      <th>Weight</th>\n",
       "      <th>...</th>\n",
       "      <th>Overall</th>\n",
       "      <th>Potential</th>\n",
       "      <th>Shooting</th>\n",
       "      <th>Defense</th>\n",
       "      <th>Passing</th>\n",
       "      <th>Physical</th>\n",
       "      <th>Control</th>\n",
       "      <th>Mental</th>\n",
       "      <th>GoalKeeping</th>\n",
       "      <th>Potential left</th>\n",
       "    </tr>\n",
       "  </thead>\n",
       "  <tbody>\n",
       "    <tr>\n",
       "      <th>0</th>\n",
       "      <td>158023</td>\n",
       "      <td>L. Messi</td>\n",
       "      <td>Argentina</td>\n",
       "      <td>FC Barcelona</td>\n",
       "      <td>10.0</td>\n",
       "      <td>110500000.0</td>\n",
       "      <td>565000.0</td>\n",
       "      <td>31</td>\n",
       "      <td>5'7</td>\n",
       "      <td>159lbs</td>\n",
       "      <td>...</td>\n",
       "      <td>94</td>\n",
       "      <td>94</td>\n",
       "      <td>86.0</td>\n",
       "      <td>41.0</td>\n",
       "      <td>87.0</td>\n",
       "      <td>80.0</td>\n",
       "      <td>96.0</td>\n",
       "      <td>95.0</td>\n",
       "      <td>11.0</td>\n",
       "      <td>0</td>\n",
       "    </tr>\n",
       "    <tr>\n",
       "      <th>1</th>\n",
       "      <td>20801</td>\n",
       "      <td>Cristiano Ronaldo</td>\n",
       "      <td>Portugal</td>\n",
       "      <td>Juventus</td>\n",
       "      <td>7.0</td>\n",
       "      <td>77000000.0</td>\n",
       "      <td>405000.0</td>\n",
       "      <td>33</td>\n",
       "      <td>6'2</td>\n",
       "      <td>183lbs</td>\n",
       "      <td>...</td>\n",
       "      <td>94</td>\n",
       "      <td>94</td>\n",
       "      <td>88.0</td>\n",
       "      <td>41.0</td>\n",
       "      <td>81.0</td>\n",
       "      <td>86.0</td>\n",
       "      <td>84.0</td>\n",
       "      <td>91.0</td>\n",
       "      <td>12.0</td>\n",
       "      <td>0</td>\n",
       "    </tr>\n",
       "    <tr>\n",
       "      <th>2</th>\n",
       "      <td>190871</td>\n",
       "      <td>Neymar Jr</td>\n",
       "      <td>Brazil</td>\n",
       "      <td>Paris Saint-Germain</td>\n",
       "      <td>10.0</td>\n",
       "      <td>118500000.0</td>\n",
       "      <td>290000.0</td>\n",
       "      <td>26</td>\n",
       "      <td>5'9</td>\n",
       "      <td>150lbs</td>\n",
       "      <td>...</td>\n",
       "      <td>92</td>\n",
       "      <td>93</td>\n",
       "      <td>81.0</td>\n",
       "      <td>42.0</td>\n",
       "      <td>80.0</td>\n",
       "      <td>79.0</td>\n",
       "      <td>92.0</td>\n",
       "      <td>92.0</td>\n",
       "      <td>12.0</td>\n",
       "      <td>1</td>\n",
       "    </tr>\n",
       "    <tr>\n",
       "      <th>3</th>\n",
       "      <td>193080</td>\n",
       "      <td>De Gea</td>\n",
       "      <td>Spain</td>\n",
       "      <td>Manchester United</td>\n",
       "      <td>1.0</td>\n",
       "      <td>72000000.0</td>\n",
       "      <td>260000.0</td>\n",
       "      <td>27</td>\n",
       "      <td>6'4</td>\n",
       "      <td>168lbs</td>\n",
       "      <td>...</td>\n",
       "      <td>91</td>\n",
       "      <td>93</td>\n",
       "      <td>21.0</td>\n",
       "      <td>18.0</td>\n",
       "      <td>39.0</td>\n",
       "      <td>56.0</td>\n",
       "      <td>34.0</td>\n",
       "      <td>75.0</td>\n",
       "      <td>89.0</td>\n",
       "      <td>2</td>\n",
       "    </tr>\n",
       "    <tr>\n",
       "      <th>4</th>\n",
       "      <td>192985</td>\n",
       "      <td>K. De Bruyne</td>\n",
       "      <td>Belgium</td>\n",
       "      <td>Manchester City</td>\n",
       "      <td>7.0</td>\n",
       "      <td>102000000.0</td>\n",
       "      <td>355000.0</td>\n",
       "      <td>27</td>\n",
       "      <td>5'11</td>\n",
       "      <td>154lbs</td>\n",
       "      <td>...</td>\n",
       "      <td>91</td>\n",
       "      <td>92</td>\n",
       "      <td>81.0</td>\n",
       "      <td>65.0</td>\n",
       "      <td>92.0</td>\n",
       "      <td>77.0</td>\n",
       "      <td>85.0</td>\n",
       "      <td>91.0</td>\n",
       "      <td>11.0</td>\n",
       "      <td>1</td>\n",
       "    </tr>\n",
       "  </tbody>\n",
       "</table>\n",
       "<p>5 rows × 22 columns</p>\n",
       "</div>"
      ],
      "text/plain": [
       "       ID               Name Nationality                 Club  Jersey Number  \\\n",
       "0  158023           L. Messi   Argentina         FC Barcelona           10.0   \n",
       "1   20801  Cristiano Ronaldo    Portugal             Juventus            7.0   \n",
       "2  190871          Neymar Jr      Brazil  Paris Saint-Germain           10.0   \n",
       "3  193080             De Gea       Spain    Manchester United            1.0   \n",
       "4  192985       K. De Bruyne     Belgium      Manchester City            7.0   \n",
       "\n",
       "         Value      Wage  Age Height  Weight  ... Overall Potential  Shooting  \\\n",
       "0  110500000.0  565000.0   31    5'7  159lbs  ...      94        94      86.0   \n",
       "1   77000000.0  405000.0   33    6'2  183lbs  ...      94        94      88.0   \n",
       "2  118500000.0  290000.0   26    5'9  150lbs  ...      92        93      81.0   \n",
       "3   72000000.0  260000.0   27    6'4  168lbs  ...      91        93      21.0   \n",
       "4  102000000.0  355000.0   27   5'11  154lbs  ...      91        92      81.0   \n",
       "\n",
       "   Defense  Passing  Physical  Control  Mental  GoalKeeping  Potential left  \n",
       "0     41.0     87.0      80.0     96.0    95.0         11.0               0  \n",
       "1     41.0     81.0      86.0     84.0    91.0         12.0               0  \n",
       "2     42.0     80.0      79.0     92.0    92.0         12.0               1  \n",
       "3     18.0     39.0      56.0     34.0    75.0         89.0               2  \n",
       "4     65.0     92.0      77.0     85.0    91.0         11.0               1  \n",
       "\n",
       "[5 rows x 22 columns]"
      ]
     },
     "execution_count": 431,
     "metadata": {},
     "output_type": "execute_result"
    }
   ],
   "source": [
    "fifa_df[\"Potential left\"] = fifa_df[\"Potential\"] - fifa_df[\"Overall\"]\n",
    "fifa_df.head()"
   ]
  },
  {
   "cell_type": "markdown",
   "metadata": {
    "colab_type": "text",
    "id": "NwYgtvlTmKnq"
   },
   "source": [
    "### Jóvenes promesa\n",
    "\n",
    "Utiliza las funciones de Pandas para encontrar el **top 5** de jugadores \"promesa\" menores de 22 años. Ordena ascendentemente el dataframe según el potencial (```Potential```), potencial por alcanzar (```Potential left```) y su nivel (```Overall ```) actual."
   ]
  },
  {
   "cell_type": "code",
   "execution_count": 432,
   "metadata": {
    "colab": {},
    "colab_type": "code",
    "id": "5IFX49Jern6K"
   },
   "outputs": [
    {
     "data": {
      "text/html": [
       "<div>\n",
       "<style scoped>\n",
       "    .dataframe tbody tr th:only-of-type {\n",
       "        vertical-align: middle;\n",
       "    }\n",
       "\n",
       "    .dataframe tbody tr th {\n",
       "        vertical-align: top;\n",
       "    }\n",
       "\n",
       "    .dataframe thead th {\n",
       "        text-align: right;\n",
       "    }\n",
       "</style>\n",
       "<table border=\"1\" class=\"dataframe\">\n",
       "  <thead>\n",
       "    <tr style=\"text-align: right;\">\n",
       "      <th></th>\n",
       "      <th>ID</th>\n",
       "      <th>Name</th>\n",
       "      <th>Nationality</th>\n",
       "      <th>Club</th>\n",
       "      <th>Jersey Number</th>\n",
       "      <th>Value</th>\n",
       "      <th>Wage</th>\n",
       "      <th>Age</th>\n",
       "      <th>Height</th>\n",
       "      <th>Weight</th>\n",
       "      <th>...</th>\n",
       "      <th>Overall</th>\n",
       "      <th>Potential</th>\n",
       "      <th>Shooting</th>\n",
       "      <th>Defense</th>\n",
       "      <th>Passing</th>\n",
       "      <th>Physical</th>\n",
       "      <th>Control</th>\n",
       "      <th>Mental</th>\n",
       "      <th>GoalKeeping</th>\n",
       "      <th>Potential left</th>\n",
       "    </tr>\n",
       "  </thead>\n",
       "  <tbody>\n",
       "    <tr>\n",
       "      <th>25</th>\n",
       "      <td>231747</td>\n",
       "      <td>K. Mbappé</td>\n",
       "      <td>France</td>\n",
       "      <td>Paris Saint-Germain</td>\n",
       "      <td>10.0</td>\n",
       "      <td>81000000.0</td>\n",
       "      <td>100000.0</td>\n",
       "      <td>19</td>\n",
       "      <td>5'10</td>\n",
       "      <td>161lbs</td>\n",
       "      <td>...</td>\n",
       "      <td>88</td>\n",
       "      <td>95</td>\n",
       "      <td>76.0</td>\n",
       "      <td>45.0</td>\n",
       "      <td>77.0</td>\n",
       "      <td>85.0</td>\n",
       "      <td>88.0</td>\n",
       "      <td>85.0</td>\n",
       "      <td>8.0</td>\n",
       "      <td>7</td>\n",
       "    </tr>\n",
       "    <tr>\n",
       "      <th>229</th>\n",
       "      <td>230621</td>\n",
       "      <td>G. Donnarumma</td>\n",
       "      <td>Italy</td>\n",
       "      <td>Milan</td>\n",
       "      <td>22.0</td>\n",
       "      <td>29000000.0</td>\n",
       "      <td>23000.0</td>\n",
       "      <td>19</td>\n",
       "      <td>6'5</td>\n",
       "      <td>198lbs</td>\n",
       "      <td>...</td>\n",
       "      <td>82</td>\n",
       "      <td>93</td>\n",
       "      <td>16.0</td>\n",
       "      <td>18.0</td>\n",
       "      <td>23.0</td>\n",
       "      <td>54.0</td>\n",
       "      <td>31.0</td>\n",
       "      <td>64.0</td>\n",
       "      <td>81.0</td>\n",
       "      <td>11</td>\n",
       "    </tr>\n",
       "    <tr>\n",
       "      <th>1143</th>\n",
       "      <td>238794</td>\n",
       "      <td>Vinícius Júnior</td>\n",
       "      <td>Brazil</td>\n",
       "      <td>Real Madrid</td>\n",
       "      <td>28.0</td>\n",
       "      <td>17500000.0</td>\n",
       "      <td>66000.0</td>\n",
       "      <td>17</td>\n",
       "      <td>5'9</td>\n",
       "      <td>161lbs</td>\n",
       "      <td>...</td>\n",
       "      <td>77</td>\n",
       "      <td>92</td>\n",
       "      <td>67.0</td>\n",
       "      <td>35.0</td>\n",
       "      <td>61.0</td>\n",
       "      <td>81.0</td>\n",
       "      <td>81.0</td>\n",
       "      <td>71.0</td>\n",
       "      <td>7.0</td>\n",
       "      <td>15</td>\n",
       "    </tr>\n",
       "    <tr>\n",
       "      <th>155</th>\n",
       "      <td>231443</td>\n",
       "      <td>O. Dembélé</td>\n",
       "      <td>France</td>\n",
       "      <td>FC Barcelona</td>\n",
       "      <td>11.0</td>\n",
       "      <td>40000000.0</td>\n",
       "      <td>155000.0</td>\n",
       "      <td>21</td>\n",
       "      <td>5'10</td>\n",
       "      <td>148lbs</td>\n",
       "      <td>...</td>\n",
       "      <td>83</td>\n",
       "      <td>92</td>\n",
       "      <td>71.0</td>\n",
       "      <td>44.0</td>\n",
       "      <td>75.0</td>\n",
       "      <td>77.0</td>\n",
       "      <td>86.0</td>\n",
       "      <td>80.0</td>\n",
       "      <td>10.0</td>\n",
       "      <td>9</td>\n",
       "    </tr>\n",
       "    <tr>\n",
       "      <th>156</th>\n",
       "      <td>230666</td>\n",
       "      <td>Gabriel Jesus</td>\n",
       "      <td>Brazil</td>\n",
       "      <td>Manchester City</td>\n",
       "      <td>33.0</td>\n",
       "      <td>41000000.0</td>\n",
       "      <td>130000.0</td>\n",
       "      <td>21</td>\n",
       "      <td>5'9</td>\n",
       "      <td>161lbs</td>\n",
       "      <td>...</td>\n",
       "      <td>83</td>\n",
       "      <td>92</td>\n",
       "      <td>74.0</td>\n",
       "      <td>43.0</td>\n",
       "      <td>69.0</td>\n",
       "      <td>83.0</td>\n",
       "      <td>87.0</td>\n",
       "      <td>82.0</td>\n",
       "      <td>10.0</td>\n",
       "      <td>9</td>\n",
       "    </tr>\n",
       "  </tbody>\n",
       "</table>\n",
       "<p>5 rows × 22 columns</p>\n",
       "</div>"
      ],
      "text/plain": [
       "          ID             Name Nationality                 Club  Jersey Number  \\\n",
       "25    231747        K. Mbappé      France  Paris Saint-Germain           10.0   \n",
       "229   230621    G. Donnarumma       Italy                Milan           22.0   \n",
       "1143  238794  Vinícius Júnior      Brazil          Real Madrid           28.0   \n",
       "155   231443       O. Dembélé      France         FC Barcelona           11.0   \n",
       "156   230666    Gabriel Jesus      Brazil      Manchester City           33.0   \n",
       "\n",
       "           Value      Wage  Age Height  Weight  ... Overall Potential  \\\n",
       "25    81000000.0  100000.0   19   5'10  161lbs  ...      88        95   \n",
       "229   29000000.0   23000.0   19    6'5  198lbs  ...      82        93   \n",
       "1143  17500000.0   66000.0   17    5'9  161lbs  ...      77        92   \n",
       "155   40000000.0  155000.0   21   5'10  148lbs  ...      83        92   \n",
       "156   41000000.0  130000.0   21    5'9  161lbs  ...      83        92   \n",
       "\n",
       "      Shooting  Defense  Passing  Physical  Control  Mental  GoalKeeping  \\\n",
       "25        76.0     45.0     77.0      85.0     88.0    85.0          8.0   \n",
       "229       16.0     18.0     23.0      54.0     31.0    64.0         81.0   \n",
       "1143      67.0     35.0     61.0      81.0     81.0    71.0          7.0   \n",
       "155       71.0     44.0     75.0      77.0     86.0    80.0         10.0   \n",
       "156       74.0     43.0     69.0      83.0     87.0    82.0         10.0   \n",
       "\n",
       "      Potential left  \n",
       "25                 7  \n",
       "229               11  \n",
       "1143              15  \n",
       "155                9  \n",
       "156                9  \n",
       "\n",
       "[5 rows x 22 columns]"
      ]
     },
     "execution_count": 432,
     "metadata": {},
     "output_type": "execute_result"
    }
   ],
   "source": [
    "fifa_df[fifa_df[\"Age\"] < 22].sort_values(by=[\"Potential\", \"Potential left\", \"Overall\"], ascending=False).head(5)"
   ]
  },
  {
   "cell_type": "markdown",
   "metadata": {
    "colab_type": "text",
    "id": "vrWYwyCwKfV2"
   },
   "source": [
    "### Mejor defensa en el mundo\n",
    "\n",
    "Encuentra al jugador con el mayor puntaje en la columna ```Defense```:\n",
    "\n",
    "*Tip: utiliza el método ```idxmax``` para encontrar la fila donde se encuentra el mejor defensa. Después usa el índice para acceder a los datos de la fila.*"
   ]
  },
  {
   "cell_type": "code",
   "execution_count": 433,
   "metadata": {
    "colab": {},
    "colab_type": "code",
    "id": "ZYv8MVn4Kfxg",
    "scrolled": true
   },
   "outputs": [
    {
     "data": {
      "text/plain": [
       "Name        N. Kanté\n",
       "Club         Chelsea\n",
       "Defense           86\n",
       "Position         LDM\n",
       "Name: 14, dtype: object"
      ]
     },
     "execution_count": 433,
     "metadata": {},
     "output_type": "execute_result"
    }
   ],
   "source": [
    "idx = fifa_df[\"Defense\"].idxmax()\n",
    "fifa_df[[\"Name\", \"Club\", \"Defense\", \"Position\"]].loc[idx]"
   ]
  },
  {
   "cell_type": "markdown",
   "metadata": {
    "colab_type": "text",
    "id": "kgertLU4k6d1"
   },
   "source": [
    "### Porcentaje pie preferido\n",
    "\n",
    "Calcula el porcentaje mundial de jugadores que prefieren utilizar su pierna derecha para controlar el balón y el porcentaje que prefiere utilizar la pierna izquierda.\n",
    "\n",
    "*Tip: El método ```value_counts()``` de objetos Series podría resultarte particularmente útil para esta tarea.*"
   ]
  },
  {
   "cell_type": "code",
   "execution_count": 434,
   "metadata": {
    "colab": {},
    "colab_type": "code",
    "id": "sfV8mP74mIv6"
   },
   "outputs": [
    {
     "name": "stdout",
     "output_type": "stream",
     "text": [
      "76.77196115637906%\n"
     ]
    }
   ],
   "source": [
    "foot_counts = fifa_df[\"Preferred Foot\"].value_counts(normalize=\"True\")\n",
    "right_foot_perc = foot_counts[\"Right\"]\n",
    "print(str(right_foot_perc*100) + \"%\")"
   ]
  },
  {
   "cell_type": "markdown",
   "metadata": {
    "colab_type": "text",
    "id": "Bd0Gcj0YkitL"
   },
   "source": [
    "### Equipos con mayor talento promedio\n",
    "\n",
    "Utiliza funciones de agregación y de agrupamiento para obtener a los equipos con el mejor promedio de nivel (```Overall```) entre sus jugadores."
   ]
  },
  {
   "cell_type": "code",
   "execution_count": 435,
   "metadata": {
    "colab": {},
    "colab_type": "code",
    "id": "R2m3dzbemJSc"
   },
   "outputs": [
    {
     "data": {
      "text/plain": [
       "Club\n",
       "Juventus               82.280000\n",
       "Napoli                 80.000000\n",
       "Inter                  79.750000\n",
       "Real Madrid            78.242424\n",
       "Milan                  78.074074\n",
       "FC Barcelona           78.030303\n",
       "Paris Saint-Germain    77.433333\n",
       "Roma                   77.423077\n",
       "Manchester United      77.242424\n",
       "SL Benfica             77.000000\n",
       "Name: Overall, dtype: float64"
      ]
     },
     "execution_count": 435,
     "metadata": {},
     "output_type": "execute_result"
    }
   ],
   "source": [
    "fifa_df.groupby(\"Club\").agg(\"Overall\").mean().sort_values(ascending=False).head(10)"
   ]
  },
  {
   "cell_type": "markdown",
   "metadata": {
    "colab_type": "text",
    "id": "sGpOyoqskqAX"
   },
   "source": [
    "### Equipos con más costosos (valor comercial)\n",
    "\n",
    "Utiliza funciones de agregación y agrupamiento para encontrar el valor total de de cada club, esto es, la suma de los valores individuales de los jugadores de los Club.\n",
    "\n",
    "Ordena de manera descendente para mostrar los clubs más costosos del mundo."
   ]
  },
  {
   "cell_type": "code",
   "execution_count": 436,
   "metadata": {
    "colab": {},
    "colab_type": "code",
    "id": "bncX7I0jmJ0K"
   },
   "outputs": [
    {
     "data": {
      "text/plain": [
       "Club\n",
       "Real Madrid          874425000.0\n",
       "FC Barcelona         852600000.0\n",
       "Manchester City      786555000.0\n",
       "Juventus             704475000.0\n",
       "FC Bayern München    679025000.0\n",
       "                        ...     \n",
       "Sligo Rovers           3295000.0\n",
       "Bohemian FC            3195000.0\n",
       "Derry City             2795000.0\n",
       "Limerick FC            2040000.0\n",
       "Bray Wanderers         1930000.0\n",
       "Name: Value, Length: 651, dtype: float64"
      ]
     },
     "execution_count": 436,
     "metadata": {},
     "output_type": "execute_result"
    }
   ],
   "source": [
    "fifa_df.groupby(\"Club\").agg(\"Value\").sum().sort_values(ascending=False)"
   ]
  },
  {
   "cell_type": "markdown",
   "metadata": {
    "colab_type": "text",
    "id": "7AthXgs1l8hn"
   },
   "source": [
    "### ¿Qué equipos tienen más mexicanos?\n",
    "\n",
    "Muestra un top 5 de equipos con más jugadores mexicanos en el mundo."
   ]
  },
  {
   "cell_type": "markdown",
   "metadata": {
    "colab_type": "text",
    "id": "bcyrdPV0p6_0"
   },
   "source": [
    "Primero, crea un dataframe que contiene unicamente jugadores mexicanos:\n",
    "\n",
    "*Tip: Filtra el dataframe usando ```Nationality==Mexico```*."
   ]
  },
  {
   "cell_type": "code",
   "execution_count": 437,
   "metadata": {
    "colab": {},
    "colab_type": "code",
    "id": "3rvkuvn0rKkR"
   },
   "outputs": [],
   "source": [
    "players_mx_df = fifa_df[fifa_df[\"Nationality\"] == \"Mexico\"]"
   ]
  },
  {
   "cell_type": "markdown",
   "metadata": {
    "colab_type": "text",
    "id": "GOeknoZwpxSQ"
   },
   "source": [
    "Agrupa por el nombre del club y cuenta:"
   ]
  },
  {
   "cell_type": "code",
   "execution_count": 438,
   "metadata": {
    "colab": {},
    "colab_type": "code",
    "id": "1RN0-mwMJVXI"
   },
   "outputs": [
    {
     "data": {
      "text/plain": [
       "Club\n",
       "Guadalajara        29\n",
       "U.N.A.M.           21\n",
       "Club Atlas         20\n",
       "Club Necaxa        20\n",
       "Tigres U.A.N.L.    19\n",
       "Name: Nationality, dtype: int64"
      ]
     },
     "execution_count": 438,
     "metadata": {},
     "output_type": "execute_result"
    }
   ],
   "source": [
    "players_mx_df.groupby(\"Club\").agg(\"Nationality\").count().sort_values(ascending=False).head(5)\n"
   ]
  },
  {
   "cell_type": "markdown",
   "metadata": {
    "colab_type": "text",
    "id": "f5Vi_hQCbyDL"
   },
   "source": [
    "## Visualización\n",
    "\n",
    "Utiliza las opciones de visualización de Pandas."
   ]
  },
  {
   "cell_type": "markdown",
   "metadata": {
    "colab_type": "text",
    "id": "gIE5S2l6kQaL"
   },
   "source": [
    "### Histograma de las edades de los jugadores de futbol\n",
    "\n",
    "Selecciona la columna ``Age``` del dataframe ```fifa_df``` y muestra el histograma usando las opciones de visualización de Pandas:"
   ]
  },
  {
   "cell_type": "code",
   "execution_count": 439,
   "metadata": {
    "colab": {},
    "colab_type": "code",
    "id": "6zlGLD6Yb8XQ"
   },
   "outputs": [
    {
     "data": {
      "text/plain": [
       "<matplotlib.axes._subplots.AxesSubplot at 0x145d236eb50>"
      ]
     },
     "execution_count": 439,
     "metadata": {},
     "output_type": "execute_result"
    },
    {
     "data": {
      "image/png": "[encoded data removed]",
      "text/plain": [
       "<Figure size 432x288 with 1 Axes>"
      ]
     },
     "metadata": {
      "needs_background": "light"
     },
     "output_type": "display_data"
    }
   ],
   "source": [
    "fifa_df[\"Age\"].plot.hist(bins=10)"
   ]
  },
  {
   "cell_type": "markdown",
   "metadata": {
    "colab_type": "text",
    "id": "K-ZhgvfWR_rT"
   },
   "source": [
    "### Gráfica de Pie (Preferred Foot)\n",
    "\n",
    "Selecciónes el conteo de valores del pie preferido (columna ```Preferred Foot```) y muestra la información mediante una gráfica de Pie:"
   ]
  },
  {
   "cell_type": "code",
   "execution_count": 440,
   "metadata": {
    "colab": {},
    "colab_type": "code",
    "id": "wT4II3U_R_51"
   },
   "outputs": [
    {
     "data": {
      "image/png": "[encoded data removed]",
      "text/plain": [
       "<Figure size 432x288 with 1 Axes>"
      ]
     },
     "metadata": {},
     "output_type": "display_data"
    }
   ],
   "source": [
    "foot_counts = fifa_df[\"Preferred Foot\"].value_counts(normalize=\"True\").plot.pie()"
   ]
  },
  {
   "cell_type": "markdown",
   "metadata": {
    "colab_type": "text",
    "id": "88Quw6tnb88P"
   },
   "source": [
    "### Gráfica de dispersión Edad vs Potential left\n",
    "\n",
    "Ahora, utiliza una gráfica de dispersión para visualizar el comportamiento del potencial por alcanzar (```Potential left```) de acuerdo a las edades de los jugadores:\n",
    "\n",
    "*Tip: La gráfica debe mostrar la edad en un eje y el potencial por alcanzar en el otro.*"
   ]
  },
  {
   "cell_type": "code",
   "execution_count": 441,
   "metadata": {
    "colab": {},
    "colab_type": "code",
    "id": "A8oJxUi5kc8B"
   },
   "outputs": [
    {
     "data": {
      "text/plain": [
       "<matplotlib.axes._subplots.AxesSubplot at 0x145d254fd30>"
      ]
     },
     "execution_count": 441,
     "metadata": {},
     "output_type": "execute_result"
    },
    {
     "data": {
      "image/png": "[encoded data removed]",
      "text/plain": [
       "<Figure size 432x288 with 1 Axes>"
      ]
     },
     "metadata": {
      "needs_background": "light"
     },
     "output_type": "display_data"
    }
   ],
   "source": [
    "fifa_df[[\"Age\", \"Potential left\"]].plot.scatter(x=\"Age\", y=\"Potential left\")"
   ]
  },
  {
   "cell_type": "markdown",
   "metadata": {
    "colab_type": "text",
    "id": "SSr_il5HRx5A"
   },
   "source": [
    "¿Qué otras variables o mezcla de variables sería interesante visualizar?"
   ]
  },
  {
   "cell_type": "markdown",
   "metadata": {},
   "source": [
    "Sería interesante analizar, por ejemplo:\n",
    "\n",
    "* Qué tipo de jugadores valen más dinero en promedio (porteros vs. defensas vs. mediocampistas vs. delanteros)\n",
    "* De qué nacionalidad son los jugadores que tienen más potencial de desarrollo\n",
    "* Qué equipos tienen un mayor nivel de disparidad en relación a los sueldos de los jugadores\n",
    "* Qué país tiene más jugadores en activo"
   ]
  },
  {
   "cell_type": "markdown",
   "metadata": {
    "colab_type": "text",
    "id": "8NCzkort1t2j"
   },
   "source": [
    "# Desafío Adicional (No calificado)\n",
    "\n",
    "En la práctica con Numpy, creaste un modelo para identificar imágenes de dígitos escritos a mano. \n",
    "\n",
    "Para este nuevo conjunto de datos, ¿podrías usar una metodología similar para encontrar la posición en el campo de un jugador solamente usando los valores de su habilidades? \n",
    "\n",
    "Skills: ```Shooting \tDefense \tPassing \tPhysical \tControl \tMental \tGoalKeeping```"
   ]
  },
  {
   "cell_type": "code",
   "execution_count": null,
   "metadata": {
    "colab": {},
    "colab_type": "code",
    "id": "HTOqsnGF1u7E"
   },
   "outputs": [],
   "source": []
  }
 ],
 "metadata": {
  "colab": {
   "authorship_tag": "ABX9TyMaw9Js/Cm2IXDaKtR+5gTd",
   "collapsed_sections": [],
   "include_colab_link": true,
   "name": "Practica3_Pandas.ipynb",
   "provenance": []
  },
  "kernelspec": {
   "display_name": "Python 3",
   "language": "python",
   "name": "python3"
  },
  "language_info": {
   "codemirror_mode": {
    "name": "ipython",
    "version": 3
   },
   "file_extension": ".py",
   "mimetype": "text/x-python",
   "name": "python",
   "nbconvert_exporter": "python",
   "pygments_lexer": "ipython3",
   "version": "3.8.3"
  }
 },
 "nbformat": 4,
 "nbformat_minor": 4
}
